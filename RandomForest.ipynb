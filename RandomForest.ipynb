{
 "cells": [
  {
   "cell_type": "code",
   "execution_count": 1,
   "id": "752ce74a",
   "metadata": {},
   "outputs": [],
   "source": [
    "import pandas as pd\n",
    "import numpy as np\n",
    "import seaborn as sns"
   ]
  },
  {
   "cell_type": "code",
   "execution_count": 2,
   "id": "a4804c24",
   "metadata": {},
   "outputs": [],
   "source": [
    "tf = pd.read_csv(r'C:\\Users\\harsh\\Documents\\TaxiFarePrediction\\Taxi Fare Prediction\\Dataset\\TaxiFare.csv')"
   ]
  },
  {
   "cell_type": "code",
   "execution_count": 3,
   "id": "9bf1175c",
   "metadata": {},
   "outputs": [
    {
     "data": {
      "text/html": [
       "<div>\n",
       "<style scoped>\n",
       "    .dataframe tbody tr th:only-of-type {\n",
       "        vertical-align: middle;\n",
       "    }\n",
       "\n",
       "    .dataframe tbody tr th {\n",
       "        vertical-align: top;\n",
       "    }\n",
       "\n",
       "    .dataframe thead th {\n",
       "        text-align: right;\n",
       "    }\n",
       "</style>\n",
       "<table border=\"1\" class=\"dataframe\">\n",
       "  <thead>\n",
       "    <tr style=\"text-align: right;\">\n",
       "      <th></th>\n",
       "      <th>unique_id</th>\n",
       "      <th>amount</th>\n",
       "      <th>date_time_of_pickup</th>\n",
       "      <th>longitude_of_pickup</th>\n",
       "      <th>latitude_of_pickup</th>\n",
       "      <th>longitude_of_dropoff</th>\n",
       "      <th>latitude_of_dropoff</th>\n",
       "      <th>no_of_passenger</th>\n",
       "    </tr>\n",
       "  </thead>\n",
       "  <tbody>\n",
       "    <tr>\n",
       "      <th>0</th>\n",
       "      <td>26:21.0</td>\n",
       "      <td>4.5</td>\n",
       "      <td>2009-06-15 17:26:21 UTC</td>\n",
       "      <td>-73.844311</td>\n",
       "      <td>40.721319</td>\n",
       "      <td>-73.841610</td>\n",
       "      <td>40.712278</td>\n",
       "      <td>1</td>\n",
       "    </tr>\n",
       "    <tr>\n",
       "      <th>1</th>\n",
       "      <td>52:16.0</td>\n",
       "      <td>16.9</td>\n",
       "      <td>2010-01-05 16:52:16 UTC</td>\n",
       "      <td>-74.016048</td>\n",
       "      <td>40.711303</td>\n",
       "      <td>-73.979268</td>\n",
       "      <td>40.782004</td>\n",
       "      <td>1</td>\n",
       "    </tr>\n",
       "    <tr>\n",
       "      <th>2</th>\n",
       "      <td>35:00.0</td>\n",
       "      <td>5.7</td>\n",
       "      <td>2011-08-18 00:35:00 UTC</td>\n",
       "      <td>-73.982738</td>\n",
       "      <td>40.761270</td>\n",
       "      <td>-73.991242</td>\n",
       "      <td>40.750562</td>\n",
       "      <td>2</td>\n",
       "    </tr>\n",
       "    <tr>\n",
       "      <th>3</th>\n",
       "      <td>30:42.0</td>\n",
       "      <td>7.7</td>\n",
       "      <td>2012-04-21 04:30:42 UTC</td>\n",
       "      <td>-73.987130</td>\n",
       "      <td>40.733143</td>\n",
       "      <td>-73.991567</td>\n",
       "      <td>40.758092</td>\n",
       "      <td>1</td>\n",
       "    </tr>\n",
       "    <tr>\n",
       "      <th>4</th>\n",
       "      <td>51:00.0</td>\n",
       "      <td>5.3</td>\n",
       "      <td>2010-03-09 07:51:00 UTC</td>\n",
       "      <td>-73.968095</td>\n",
       "      <td>40.768008</td>\n",
       "      <td>-73.956655</td>\n",
       "      <td>40.783762</td>\n",
       "      <td>1</td>\n",
       "    </tr>\n",
       "  </tbody>\n",
       "</table>\n",
       "</div>"
      ],
      "text/plain": [
       "  unique_id  amount      date_time_of_pickup  longitude_of_pickup  \\\n",
       "0   26:21.0     4.5  2009-06-15 17:26:21 UTC           -73.844311   \n",
       "1   52:16.0    16.9  2010-01-05 16:52:16 UTC           -74.016048   \n",
       "2   35:00.0     5.7  2011-08-18 00:35:00 UTC           -73.982738   \n",
       "3   30:42.0     7.7  2012-04-21 04:30:42 UTC           -73.987130   \n",
       "4   51:00.0     5.3  2010-03-09 07:51:00 UTC           -73.968095   \n",
       "\n",
       "   latitude_of_pickup  longitude_of_dropoff  latitude_of_dropoff  \\\n",
       "0           40.721319            -73.841610            40.712278   \n",
       "1           40.711303            -73.979268            40.782004   \n",
       "2           40.761270            -73.991242            40.750562   \n",
       "3           40.733143            -73.991567            40.758092   \n",
       "4           40.768008            -73.956655            40.783762   \n",
       "\n",
       "   no_of_passenger  \n",
       "0                1  \n",
       "1                1  \n",
       "2                2  \n",
       "3                1  \n",
       "4                1  "
      ]
     },
     "execution_count": 3,
     "metadata": {},
     "output_type": "execute_result"
    }
   ],
   "source": [
    "tf.head()"
   ]
  },
  {
   "cell_type": "code",
   "execution_count": 4,
   "id": "5c6b2402",
   "metadata": {},
   "outputs": [
    {
     "data": {
      "text/plain": [
       "amount                  0\n",
       "date_time_of_pickup     0\n",
       "longitude_of_pickup     0\n",
       "latitude_of_pickup      0\n",
       "longitude_of_dropoff    0\n",
       "latitude_of_dropoff     0\n",
       "no_of_passenger         0\n",
       "dtype: int64"
      ]
     },
     "execution_count": 4,
     "metadata": {},
     "output_type": "execute_result"
    }
   ],
   "source": [
    "tf.drop('unique_id',axis=1,inplace=True)\n",
    "tf.isnull().sum()"
   ]
  },
  {
   "cell_type": "code",
   "execution_count": 5,
   "id": "0fd0470d",
   "metadata": {},
   "outputs": [],
   "source": [
    "def extract_time_features(df):\n",
    "    timezone_name = 'America/New_York'\n",
    "    time_column = \"date_time_of_pickup\"\n",
    "    df.index = pd.to_datetime(df[time_column])\n",
    "    df.index = df.index.tz_convert(timezone_name)\n",
    "    df[\"dow\"] = df.index.weekday\n",
    "    df[\"hour\"] = df.index.hour\n",
    "    df[\"month\"] = df.index.month\n",
    "    df[\"year\"] = df.index.year\n",
    "    return df.reset_index(drop=True)"
   ]
  },
  {
   "cell_type": "code",
   "execution_count": 6,
   "id": "148a0d52",
   "metadata": {},
   "outputs": [
    {
     "data": {
      "text/html": [
       "<div>\n",
       "<style scoped>\n",
       "    .dataframe tbody tr th:only-of-type {\n",
       "        vertical-align: middle;\n",
       "    }\n",
       "\n",
       "    .dataframe tbody tr th {\n",
       "        vertical-align: top;\n",
       "    }\n",
       "\n",
       "    .dataframe thead th {\n",
       "        text-align: right;\n",
       "    }\n",
       "</style>\n",
       "<table border=\"1\" class=\"dataframe\">\n",
       "  <thead>\n",
       "    <tr style=\"text-align: right;\">\n",
       "      <th></th>\n",
       "      <th>amount</th>\n",
       "      <th>date_time_of_pickup</th>\n",
       "      <th>longitude_of_pickup</th>\n",
       "      <th>latitude_of_pickup</th>\n",
       "      <th>longitude_of_dropoff</th>\n",
       "      <th>latitude_of_dropoff</th>\n",
       "      <th>no_of_passenger</th>\n",
       "      <th>dow</th>\n",
       "      <th>hour</th>\n",
       "      <th>month</th>\n",
       "      <th>year</th>\n",
       "    </tr>\n",
       "    <tr>\n",
       "      <th>date_time_of_pickup</th>\n",
       "      <th></th>\n",
       "      <th></th>\n",
       "      <th></th>\n",
       "      <th></th>\n",
       "      <th></th>\n",
       "      <th></th>\n",
       "      <th></th>\n",
       "      <th></th>\n",
       "      <th></th>\n",
       "      <th></th>\n",
       "      <th></th>\n",
       "    </tr>\n",
       "  </thead>\n",
       "  <tbody>\n",
       "    <tr>\n",
       "      <th>2009-06-15 13:26:21-04:00</th>\n",
       "      <td>4.5</td>\n",
       "      <td>2009-06-15 17:26:21 UTC</td>\n",
       "      <td>-73.844311</td>\n",
       "      <td>40.721319</td>\n",
       "      <td>-73.841610</td>\n",
       "      <td>40.712278</td>\n",
       "      <td>1</td>\n",
       "      <td>0</td>\n",
       "      <td>13</td>\n",
       "      <td>6</td>\n",
       "      <td>2009</td>\n",
       "    </tr>\n",
       "    <tr>\n",
       "      <th>2010-01-05 11:52:16-05:00</th>\n",
       "      <td>16.9</td>\n",
       "      <td>2010-01-05 16:52:16 UTC</td>\n",
       "      <td>-74.016048</td>\n",
       "      <td>40.711303</td>\n",
       "      <td>-73.979268</td>\n",
       "      <td>40.782004</td>\n",
       "      <td>1</td>\n",
       "      <td>1</td>\n",
       "      <td>11</td>\n",
       "      <td>1</td>\n",
       "      <td>2010</td>\n",
       "    </tr>\n",
       "    <tr>\n",
       "      <th>2011-08-17 20:35:00-04:00</th>\n",
       "      <td>5.7</td>\n",
       "      <td>2011-08-18 00:35:00 UTC</td>\n",
       "      <td>-73.982738</td>\n",
       "      <td>40.761270</td>\n",
       "      <td>-73.991242</td>\n",
       "      <td>40.750562</td>\n",
       "      <td>2</td>\n",
       "      <td>2</td>\n",
       "      <td>20</td>\n",
       "      <td>8</td>\n",
       "      <td>2011</td>\n",
       "    </tr>\n",
       "    <tr>\n",
       "      <th>2012-04-21 00:30:42-04:00</th>\n",
       "      <td>7.7</td>\n",
       "      <td>2012-04-21 04:30:42 UTC</td>\n",
       "      <td>-73.987130</td>\n",
       "      <td>40.733143</td>\n",
       "      <td>-73.991567</td>\n",
       "      <td>40.758092</td>\n",
       "      <td>1</td>\n",
       "      <td>5</td>\n",
       "      <td>0</td>\n",
       "      <td>4</td>\n",
       "      <td>2012</td>\n",
       "    </tr>\n",
       "    <tr>\n",
       "      <th>2010-03-09 02:51:00-05:00</th>\n",
       "      <td>5.3</td>\n",
       "      <td>2010-03-09 07:51:00 UTC</td>\n",
       "      <td>-73.968095</td>\n",
       "      <td>40.768008</td>\n",
       "      <td>-73.956655</td>\n",
       "      <td>40.783762</td>\n",
       "      <td>1</td>\n",
       "      <td>1</td>\n",
       "      <td>2</td>\n",
       "      <td>3</td>\n",
       "      <td>2010</td>\n",
       "    </tr>\n",
       "  </tbody>\n",
       "</table>\n",
       "</div>"
      ],
      "text/plain": [
       "                           amount      date_time_of_pickup  \\\n",
       "date_time_of_pickup                                          \n",
       "2009-06-15 13:26:21-04:00     4.5  2009-06-15 17:26:21 UTC   \n",
       "2010-01-05 11:52:16-05:00    16.9  2010-01-05 16:52:16 UTC   \n",
       "2011-08-17 20:35:00-04:00     5.7  2011-08-18 00:35:00 UTC   \n",
       "2012-04-21 00:30:42-04:00     7.7  2012-04-21 04:30:42 UTC   \n",
       "2010-03-09 02:51:00-05:00     5.3  2010-03-09 07:51:00 UTC   \n",
       "\n",
       "                           longitude_of_pickup  latitude_of_pickup  \\\n",
       "date_time_of_pickup                                                  \n",
       "2009-06-15 13:26:21-04:00           -73.844311           40.721319   \n",
       "2010-01-05 11:52:16-05:00           -74.016048           40.711303   \n",
       "2011-08-17 20:35:00-04:00           -73.982738           40.761270   \n",
       "2012-04-21 00:30:42-04:00           -73.987130           40.733143   \n",
       "2010-03-09 02:51:00-05:00           -73.968095           40.768008   \n",
       "\n",
       "                           longitude_of_dropoff  latitude_of_dropoff  \\\n",
       "date_time_of_pickup                                                    \n",
       "2009-06-15 13:26:21-04:00            -73.841610            40.712278   \n",
       "2010-01-05 11:52:16-05:00            -73.979268            40.782004   \n",
       "2011-08-17 20:35:00-04:00            -73.991242            40.750562   \n",
       "2012-04-21 00:30:42-04:00            -73.991567            40.758092   \n",
       "2010-03-09 02:51:00-05:00            -73.956655            40.783762   \n",
       "\n",
       "                           no_of_passenger  dow  hour  month  year  \n",
       "date_time_of_pickup                                                 \n",
       "2009-06-15 13:26:21-04:00                1    0    13      6  2009  \n",
       "2010-01-05 11:52:16-05:00                1    1    11      1  2010  \n",
       "2011-08-17 20:35:00-04:00                2    2    20      8  2011  \n",
       "2012-04-21 00:30:42-04:00                1    5     0      4  2012  \n",
       "2010-03-09 02:51:00-05:00                1    1     2      3  2010  "
      ]
     },
     "execution_count": 6,
     "metadata": {},
     "output_type": "execute_result"
    }
   ],
   "source": [
    "extract_time_features(tf);\n",
    "tf.head()"
   ]
  },
  {
   "cell_type": "code",
   "execution_count": 7,
   "id": "be28075d",
   "metadata": {},
   "outputs": [
    {
     "name": "stdout",
     "output_type": "stream",
     "text": [
      "<class 'pandas.core.frame.DataFrame'>\n",
      "DatetimeIndex: 50000 entries, 2009-06-15 13:26:21-04:00 to 2010-01-13 03:13:14-05:00\n",
      "Data columns (total 11 columns):\n",
      " #   Column                Non-Null Count  Dtype  \n",
      "---  ------                --------------  -----  \n",
      " 0   amount                50000 non-null  float64\n",
      " 1   date_time_of_pickup   50000 non-null  object \n",
      " 2   longitude_of_pickup   50000 non-null  float64\n",
      " 3   latitude_of_pickup    50000 non-null  float64\n",
      " 4   longitude_of_dropoff  50000 non-null  float64\n",
      " 5   latitude_of_dropoff   50000 non-null  float64\n",
      " 6   no_of_passenger       50000 non-null  int64  \n",
      " 7   dow                   50000 non-null  int64  \n",
      " 8   hour                  50000 non-null  int64  \n",
      " 9   month                 50000 non-null  int64  \n",
      " 10  year                  50000 non-null  int64  \n",
      "dtypes: float64(5), int64(5), object(1)\n",
      "memory usage: 4.6+ MB\n"
     ]
    }
   ],
   "source": [
    "tf.info()\n",
    "tf.drop('date_time_of_pickup',axis=1,inplace=True)"
   ]
  },
  {
   "cell_type": "code",
   "execution_count": 8,
   "id": "de30c942",
   "metadata": {},
   "outputs": [],
   "source": [
    "from sklearn.model_selection import train_test_split"
   ]
  },
  {
   "cell_type": "code",
   "execution_count": 9,
   "id": "33cba555",
   "metadata": {},
   "outputs": [],
   "source": [
    "tf_train, tf_test = train_test_split(tf, test_size = .2) "
   ]
  },
  {
   "cell_type": "code",
   "execution_count": 10,
   "id": "f5b2cf17",
   "metadata": {},
   "outputs": [],
   "source": [
    "tf_train_x  = tf_train.iloc[: , 0:-1]\n",
    "tf_train_y  = tf_train.iloc[: , -1]\n",
    "\n",
    "tf_test_x  = tf_test.iloc[: , 0:-1]\n",
    "tf_test_y  = tf_test.iloc[: , -1]"
   ]
  },
  {
   "cell_type": "code",
   "execution_count": 11,
   "id": "95bacf76",
   "metadata": {},
   "outputs": [],
   "source": [
    "from sklearn.ensemble import RandomForestRegressor"
   ]
  },
  {
   "cell_type": "code",
   "execution_count": 12,
   "id": "1781ff7a",
   "metadata": {},
   "outputs": [],
   "source": [
    "rfc = RandomForestRegressor()"
   ]
  },
  {
   "cell_type": "code",
   "execution_count": 13,
   "id": "28763359",
   "metadata": {},
   "outputs": [
    {
     "data": {
      "text/plain": [
       "RandomForestRegressor()"
      ]
     },
     "execution_count": 13,
     "metadata": {},
     "output_type": "execute_result"
    }
   ],
   "source": [
    "rfc.fit(tf_train_x, tf_train_y)"
   ]
  },
  {
   "cell_type": "code",
   "execution_count": 14,
   "id": "95dc3e21",
   "metadata": {},
   "outputs": [],
   "source": [
    "pred_tf = rfc.predict(tf_test_x)"
   ]
  },
  {
   "cell_type": "code",
   "execution_count": 15,
   "id": "fc03cdf4",
   "metadata": {},
   "outputs": [],
   "source": [
    "from sklearn.metrics import confusion_matrix"
   ]
  },
  {
   "cell_type": "code",
   "execution_count": 16,
   "id": "8bb828cc",
   "metadata": {},
   "outputs": [],
   "source": [
    "error_test  = tf_test_y - pred_tf"
   ]
  },
  {
   "cell_type": "code",
   "execution_count": 17,
   "id": "4c9cb329",
   "metadata": {},
   "outputs": [
    {
     "data": {
      "text/plain": [
       "array([0.50056687, 0.08147982, 0.08108242, 0.08405406, 0.08572084,\n",
       "       0.01983102, 0.03416176, 0.0550599 , 0.05804331])"
      ]
     },
     "execution_count": 17,
     "metadata": {},
     "output_type": "execute_result"
    }
   ],
   "source": [
    "rfc.feature_importances_"
   ]
  },
  {
   "cell_type": "code",
   "execution_count": 18,
   "id": "cd45b68e",
   "metadata": {},
   "outputs": [
    {
     "data": {
      "text/html": [
       "<div>\n",
       "<style scoped>\n",
       "    .dataframe tbody tr th:only-of-type {\n",
       "        vertical-align: middle;\n",
       "    }\n",
       "\n",
       "    .dataframe tbody tr th {\n",
       "        vertical-align: top;\n",
       "    }\n",
       "\n",
       "    .dataframe thead th {\n",
       "        text-align: right;\n",
       "    }\n",
       "</style>\n",
       "<table border=\"1\" class=\"dataframe\">\n",
       "  <thead>\n",
       "    <tr style=\"text-align: right;\">\n",
       "      <th></th>\n",
       "      <th>Feature</th>\n",
       "      <th>Values</th>\n",
       "    </tr>\n",
       "  </thead>\n",
       "  <tbody>\n",
       "    <tr>\n",
       "      <th>0</th>\n",
       "      <td>amount</td>\n",
       "      <td>0.500567</td>\n",
       "    </tr>\n",
       "    <tr>\n",
       "      <th>4</th>\n",
       "      <td>latitude_of_dropoff</td>\n",
       "      <td>0.085721</td>\n",
       "    </tr>\n",
       "    <tr>\n",
       "      <th>3</th>\n",
       "      <td>longitude_of_dropoff</td>\n",
       "      <td>0.084054</td>\n",
       "    </tr>\n",
       "    <tr>\n",
       "      <th>1</th>\n",
       "      <td>longitude_of_pickup</td>\n",
       "      <td>0.081480</td>\n",
       "    </tr>\n",
       "    <tr>\n",
       "      <th>2</th>\n",
       "      <td>latitude_of_pickup</td>\n",
       "      <td>0.081082</td>\n",
       "    </tr>\n",
       "    <tr>\n",
       "      <th>8</th>\n",
       "      <td>month</td>\n",
       "      <td>0.058043</td>\n",
       "    </tr>\n",
       "    <tr>\n",
       "      <th>7</th>\n",
       "      <td>hour</td>\n",
       "      <td>0.055060</td>\n",
       "    </tr>\n",
       "    <tr>\n",
       "      <th>6</th>\n",
       "      <td>dow</td>\n",
       "      <td>0.034162</td>\n",
       "    </tr>\n",
       "    <tr>\n",
       "      <th>5</th>\n",
       "      <td>no_of_passenger</td>\n",
       "      <td>0.019831</td>\n",
       "    </tr>\n",
       "  </tbody>\n",
       "</table>\n",
       "</div>"
      ],
      "text/plain": [
       "                Feature    Values\n",
       "0                amount  0.500567\n",
       "4   latitude_of_dropoff  0.085721\n",
       "3  longitude_of_dropoff  0.084054\n",
       "1   longitude_of_pickup  0.081480\n",
       "2    latitude_of_pickup  0.081082\n",
       "8                 month  0.058043\n",
       "7                  hour  0.055060\n",
       "6                   dow  0.034162\n",
       "5       no_of_passenger  0.019831"
      ]
     },
     "execution_count": 18,
     "metadata": {},
     "output_type": "execute_result"
    }
   ],
   "source": [
    "df = pd.DataFrame({'Feature':tf_train_x.columns,'Values':rfc.feature_importances_})\n",
    "df.sort_values('Values',ascending=False)"
   ]
  },
  {
   "cell_type": "code",
   "execution_count": 19,
   "id": "ca2c1ab2",
   "metadata": {},
   "outputs": [
    {
     "data": {
      "text/html": [
       "<div>\n",
       "<style scoped>\n",
       "    .dataframe tbody tr th:only-of-type {\n",
       "        vertical-align: middle;\n",
       "    }\n",
       "\n",
       "    .dataframe tbody tr th {\n",
       "        vertical-align: top;\n",
       "    }\n",
       "\n",
       "    .dataframe thead th {\n",
       "        text-align: right;\n",
       "    }\n",
       "</style>\n",
       "<table border=\"1\" class=\"dataframe\">\n",
       "  <thead>\n",
       "    <tr style=\"text-align: right;\">\n",
       "      <th></th>\n",
       "      <th>Actual</th>\n",
       "      <th>Predicted</th>\n",
       "    </tr>\n",
       "    <tr>\n",
       "      <th>date_time_of_pickup</th>\n",
       "      <th></th>\n",
       "      <th></th>\n",
       "    </tr>\n",
       "  </thead>\n",
       "  <tbody>\n",
       "    <tr>\n",
       "      <th>2011-03-29 09:59:57-04:00</th>\n",
       "      <td>2011</td>\n",
       "      <td>2010.48</td>\n",
       "    </tr>\n",
       "    <tr>\n",
       "      <th>2013-12-11 08:58:53-05:00</th>\n",
       "      <td>2013</td>\n",
       "      <td>2012.77</td>\n",
       "    </tr>\n",
       "    <tr>\n",
       "      <th>2011-03-25 14:43:00-04:00</th>\n",
       "      <td>2011</td>\n",
       "      <td>2011.15</td>\n",
       "    </tr>\n",
       "    <tr>\n",
       "      <th>2011-06-14 07:23:59-04:00</th>\n",
       "      <td>2011</td>\n",
       "      <td>2010.45</td>\n",
       "    </tr>\n",
       "    <tr>\n",
       "      <th>2013-08-30 04:57:10-04:00</th>\n",
       "      <td>2013</td>\n",
       "      <td>2012.61</td>\n",
       "    </tr>\n",
       "  </tbody>\n",
       "</table>\n",
       "</div>"
      ],
      "text/plain": [
       "                           Actual  Predicted\n",
       "date_time_of_pickup                         \n",
       "2011-03-29 09:59:57-04:00    2011    2010.48\n",
       "2013-12-11 08:58:53-05:00    2013    2012.77\n",
       "2011-03-25 14:43:00-04:00    2011    2011.15\n",
       "2011-06-14 07:23:59-04:00    2011    2010.45\n",
       "2013-08-30 04:57:10-04:00    2013    2012.61"
      ]
     },
     "execution_count": 19,
     "metadata": {},
     "output_type": "execute_result"
    }
   ],
   "source": [
    "pred_actual = pd.DataFrame({'Actual' : tf_test_y,'Predicted' : pred_tf})\n",
    "pred_actual.head()"
   ]
  },
  {
   "cell_type": "code",
   "execution_count": 20,
   "id": "cba6c1ee",
   "metadata": {},
   "outputs": [
    {
     "name": "stderr",
     "output_type": "stream",
     "text": [
      "C:\\ProgramData\\Anaconda3\\lib\\site-packages\\seaborn\\_decorators.py:36: FutureWarning: Pass the following variables as keyword args: x, y. From version 0.12, the only valid positional argument will be `data`, and passing other arguments without an explicit keyword will result in an error or misinterpretation.\n",
      "  warnings.warn(\n"
     ]
    },
    {
     "data": {
      "image/png": "[encoded data removed]",
      "text/plain": [
       "<Figure size 432x288 with 1 Axes>"
      ]
     },
     "metadata": {
      "needs_background": "light"
     },
     "output_type": "display_data"
    }
   ],
   "source": [
    "sns.regplot('Actual' , 'Predicted', data = pred_actual);"
   ]
  },
  {
   "cell_type": "code",
   "execution_count": 21,
   "id": "2c60eb0a",
   "metadata": {},
   "outputs": [],
   "source": [
    "mape_test = np.mean(np.abs(error_test / pred_tf)*100)"
   ]
  },
  {
   "cell_type": "code",
   "execution_count": 22,
   "id": "1031021a",
   "metadata": {},
   "outputs": [
    {
     "data": {
      "text/plain": [
       "99.94796584838136"
      ]
     },
     "execution_count": 22,
     "metadata": {},
     "output_type": "execute_result"
    }
   ],
   "source": [
    "Acc = 100 - mape_test\n",
    "Acc"
   ]
  },
  {
   "cell_type": "code",
   "execution_count": 23,
   "id": "d3eb81cc",
   "metadata": {},
   "outputs": [
    {
     "data": {
      "text/plain": [
       "0.0520341516186402"
      ]
     },
     "execution_count": 23,
     "metadata": {},
     "output_type": "execute_result"
    }
   ],
   "source": [
    "mape_test"
   ]
  },
  {
   "cell_type": "code",
   "execution_count": null,
   "id": "efd15d81",
   "metadata": {},
   "outputs": [],
   "source": []
  }
 ],
 "metadata": {
  "kernelspec": {
   "display_name": "Python 3 (ipykernel)",
   "language": "python",
   "name": "python3"
  },
  "language_info": {
   "codemirror_mode": {
    "name": "ipython",
    "version": 3
   },
   "file_extension": ".py",
   "mimetype": "text/x-python",
   "name": "python",
   "nbconvert_exporter": "python",
   "pygments_lexer": "ipython3",
   "version": "3.9.12"
  }
 },
 "nbformat": 4,
 "nbformat_minor": 5
}
