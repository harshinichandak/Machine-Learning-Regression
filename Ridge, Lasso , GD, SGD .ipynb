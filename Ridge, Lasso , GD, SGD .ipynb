{
 "cells": [
  {
   "cell_type": "code",
   "execution_count": 1,
   "id": "24bf962b",
   "metadata": {},
   "outputs": [],
   "source": [
    "import pandas as pd\n",
    "import numpy as np"
   ]
  },
  {
   "cell_type": "code",
   "execution_count": 2,
   "id": "a32f3b52",
   "metadata": {},
   "outputs": [],
   "source": [
    "bf = pd.read_csv(r'D:\\Datasets\\bodyfat.csv')"
   ]
  },
  {
   "cell_type": "code",
   "execution_count": 3,
   "id": "f238f722",
   "metadata": {},
   "outputs": [
    {
     "data": {
      "text/html": [
       "<div>\n",
       "<style scoped>\n",
       "    .dataframe tbody tr th:only-of-type {\n",
       "        vertical-align: middle;\n",
       "    }\n",
       "\n",
       "    .dataframe tbody tr th {\n",
       "        vertical-align: top;\n",
       "    }\n",
       "\n",
       "    .dataframe thead th {\n",
       "        text-align: right;\n",
       "    }\n",
       "</style>\n",
       "<table border=\"1\" class=\"dataframe\">\n",
       "  <thead>\n",
       "    <tr style=\"text-align: right;\">\n",
       "      <th></th>\n",
       "      <th>Bodyfat</th>\n",
       "      <th>Age</th>\n",
       "      <th>Weight</th>\n",
       "      <th>Height</th>\n",
       "      <th>Neck</th>\n",
       "      <th>Chest</th>\n",
       "      <th>Abdomen</th>\n",
       "      <th>Ankle</th>\n",
       "      <th>Biceps</th>\n",
       "      <th>Wrist</th>\n",
       "    </tr>\n",
       "  </thead>\n",
       "  <tbody>\n",
       "    <tr>\n",
       "      <th>0</th>\n",
       "      <td>32.3</td>\n",
       "      <td>41</td>\n",
       "      <td>247.25</td>\n",
       "      <td>73.50</td>\n",
       "      <td>42.1</td>\n",
       "      <td>117.0</td>\n",
       "      <td>115.6</td>\n",
       "      <td>26.3</td>\n",
       "      <td>37.3</td>\n",
       "      <td>19.7</td>\n",
       "    </tr>\n",
       "    <tr>\n",
       "      <th>1</th>\n",
       "      <td>22.5</td>\n",
       "      <td>31</td>\n",
       "      <td>177.25</td>\n",
       "      <td>71.50</td>\n",
       "      <td>36.2</td>\n",
       "      <td>101.1</td>\n",
       "      <td>92.4</td>\n",
       "      <td>24.6</td>\n",
       "      <td>30.1</td>\n",
       "      <td>18.2</td>\n",
       "    </tr>\n",
       "    <tr>\n",
       "      <th>2</th>\n",
       "      <td>22.0</td>\n",
       "      <td>42</td>\n",
       "      <td>156.25</td>\n",
       "      <td>69.00</td>\n",
       "      <td>35.5</td>\n",
       "      <td>97.8</td>\n",
       "      <td>86.0</td>\n",
       "      <td>24.0</td>\n",
       "      <td>31.2</td>\n",
       "      <td>17.4</td>\n",
       "    </tr>\n",
       "    <tr>\n",
       "      <th>3</th>\n",
       "      <td>12.3</td>\n",
       "      <td>23</td>\n",
       "      <td>154.25</td>\n",
       "      <td>67.75</td>\n",
       "      <td>36.2</td>\n",
       "      <td>93.1</td>\n",
       "      <td>85.2</td>\n",
       "      <td>21.9</td>\n",
       "      <td>32.0</td>\n",
       "      <td>17.1</td>\n",
       "    </tr>\n",
       "    <tr>\n",
       "      <th>4</th>\n",
       "      <td>20.5</td>\n",
       "      <td>46</td>\n",
       "      <td>177.00</td>\n",
       "      <td>70.00</td>\n",
       "      <td>37.2</td>\n",
       "      <td>99.7</td>\n",
       "      <td>95.6</td>\n",
       "      <td>22.5</td>\n",
       "      <td>29.1</td>\n",
       "      <td>17.7</td>\n",
       "    </tr>\n",
       "  </tbody>\n",
       "</table>\n",
       "</div>"
      ],
      "text/plain": [
       "   Bodyfat  Age  Weight  Height  Neck  Chest  Abdomen  Ankle  Biceps  Wrist\n",
       "0     32.3   41  247.25   73.50  42.1  117.0    115.6   26.3    37.3   19.7\n",
       "1     22.5   31  177.25   71.50  36.2  101.1     92.4   24.6    30.1   18.2\n",
       "2     22.0   42  156.25   69.00  35.5   97.8     86.0   24.0    31.2   17.4\n",
       "3     12.3   23  154.25   67.75  36.2   93.1     85.2   21.9    32.0   17.1\n",
       "4     20.5   46  177.00   70.00  37.2   99.7     95.6   22.5    29.1   17.7"
      ]
     },
     "execution_count": 3,
     "metadata": {},
     "output_type": "execute_result"
    }
   ],
   "source": [
    "bf.head()"
   ]
  },
  {
   "cell_type": "code",
   "execution_count": 4,
   "id": "3e1b0db5",
   "metadata": {},
   "outputs": [
    {
     "data": {
      "text/html": [
       "<div>\n",
       "<style scoped>\n",
       "    .dataframe tbody tr th:only-of-type {\n",
       "        vertical-align: middle;\n",
       "    }\n",
       "\n",
       "    .dataframe tbody tr th {\n",
       "        vertical-align: top;\n",
       "    }\n",
       "\n",
       "    .dataframe thead th {\n",
       "        text-align: right;\n",
       "    }\n",
       "</style>\n",
       "<table border=\"1\" class=\"dataframe\">\n",
       "  <thead>\n",
       "    <tr style=\"text-align: right;\">\n",
       "      <th></th>\n",
       "      <th>Age</th>\n",
       "      <th>Weight</th>\n",
       "      <th>Height</th>\n",
       "      <th>Neck</th>\n",
       "      <th>Chest</th>\n",
       "      <th>Abdomen</th>\n",
       "      <th>Ankle</th>\n",
       "      <th>Biceps</th>\n",
       "      <th>Wrist</th>\n",
       "    </tr>\n",
       "  </thead>\n",
       "  <tbody>\n",
       "    <tr>\n",
       "      <th>Age</th>\n",
       "      <td>1.000000</td>\n",
       "      <td>-0.097905</td>\n",
       "      <td>-0.268673</td>\n",
       "      <td>0.038501</td>\n",
       "      <td>0.072908</td>\n",
       "      <td>0.141339</td>\n",
       "      <td>-0.073522</td>\n",
       "      <td>-0.079398</td>\n",
       "      <td>0.216315</td>\n",
       "    </tr>\n",
       "    <tr>\n",
       "      <th>Weight</th>\n",
       "      <td>-0.097905</td>\n",
       "      <td>1.000000</td>\n",
       "      <td>0.568433</td>\n",
       "      <td>0.838977</td>\n",
       "      <td>0.916047</td>\n",
       "      <td>0.888317</td>\n",
       "      <td>0.790388</td>\n",
       "      <td>0.786266</td>\n",
       "      <td>0.755123</td>\n",
       "    </tr>\n",
       "    <tr>\n",
       "      <th>Height</th>\n",
       "      <td>-0.268673</td>\n",
       "      <td>0.568433</td>\n",
       "      <td>1.000000</td>\n",
       "      <td>0.370396</td>\n",
       "      <td>0.345312</td>\n",
       "      <td>0.265403</td>\n",
       "      <td>0.454985</td>\n",
       "      <td>0.435460</td>\n",
       "      <td>0.420928</td>\n",
       "    </tr>\n",
       "    <tr>\n",
       "      <th>Neck</th>\n",
       "      <td>0.038501</td>\n",
       "      <td>0.838977</td>\n",
       "      <td>0.370396</td>\n",
       "      <td>1.000000</td>\n",
       "      <td>0.789799</td>\n",
       "      <td>0.769086</td>\n",
       "      <td>0.664068</td>\n",
       "      <td>0.701067</td>\n",
       "      <td>0.777259</td>\n",
       "    </tr>\n",
       "    <tr>\n",
       "      <th>Chest</th>\n",
       "      <td>0.072908</td>\n",
       "      <td>0.916047</td>\n",
       "      <td>0.345312</td>\n",
       "      <td>0.789799</td>\n",
       "      <td>1.000000</td>\n",
       "      <td>0.922728</td>\n",
       "      <td>0.700092</td>\n",
       "      <td>0.730124</td>\n",
       "      <td>0.695795</td>\n",
       "    </tr>\n",
       "    <tr>\n",
       "      <th>Abdomen</th>\n",
       "      <td>0.141339</td>\n",
       "      <td>0.888317</td>\n",
       "      <td>0.265403</td>\n",
       "      <td>0.769086</td>\n",
       "      <td>0.922728</td>\n",
       "      <td>1.000000</td>\n",
       "      <td>0.643211</td>\n",
       "      <td>0.652148</td>\n",
       "      <td>0.672061</td>\n",
       "    </tr>\n",
       "    <tr>\n",
       "      <th>Ankle</th>\n",
       "      <td>-0.073522</td>\n",
       "      <td>0.790388</td>\n",
       "      <td>0.454985</td>\n",
       "      <td>0.664068</td>\n",
       "      <td>0.700092</td>\n",
       "      <td>0.643211</td>\n",
       "      <td>1.000000</td>\n",
       "      <td>0.650841</td>\n",
       "      <td>0.688320</td>\n",
       "    </tr>\n",
       "    <tr>\n",
       "      <th>Biceps</th>\n",
       "      <td>-0.079398</td>\n",
       "      <td>0.786266</td>\n",
       "      <td>0.435460</td>\n",
       "      <td>0.701067</td>\n",
       "      <td>0.730124</td>\n",
       "      <td>0.652148</td>\n",
       "      <td>0.650841</td>\n",
       "      <td>1.000000</td>\n",
       "      <td>0.630473</td>\n",
       "    </tr>\n",
       "    <tr>\n",
       "      <th>Wrist</th>\n",
       "      <td>0.216315</td>\n",
       "      <td>0.755123</td>\n",
       "      <td>0.420928</td>\n",
       "      <td>0.777259</td>\n",
       "      <td>0.695795</td>\n",
       "      <td>0.672061</td>\n",
       "      <td>0.688320</td>\n",
       "      <td>0.630473</td>\n",
       "      <td>1.000000</td>\n",
       "    </tr>\n",
       "  </tbody>\n",
       "</table>\n",
       "</div>"
      ],
      "text/plain": [
       "              Age    Weight    Height      Neck     Chest   Abdomen     Ankle  \\\n",
       "Age      1.000000 -0.097905 -0.268673  0.038501  0.072908  0.141339 -0.073522   \n",
       "Weight  -0.097905  1.000000  0.568433  0.838977  0.916047  0.888317  0.790388   \n",
       "Height  -0.268673  0.568433  1.000000  0.370396  0.345312  0.265403  0.454985   \n",
       "Neck     0.038501  0.838977  0.370396  1.000000  0.789799  0.769086  0.664068   \n",
       "Chest    0.072908  0.916047  0.345312  0.789799  1.000000  0.922728  0.700092   \n",
       "Abdomen  0.141339  0.888317  0.265403  0.769086  0.922728  1.000000  0.643211   \n",
       "Ankle   -0.073522  0.790388  0.454985  0.664068  0.700092  0.643211  1.000000   \n",
       "Biceps  -0.079398  0.786266  0.435460  0.701067  0.730124  0.652148  0.650841   \n",
       "Wrist    0.216315  0.755123  0.420928  0.777259  0.695795  0.672061  0.688320   \n",
       "\n",
       "           Biceps     Wrist  \n",
       "Age     -0.079398  0.216315  \n",
       "Weight   0.786266  0.755123  \n",
       "Height   0.435460  0.420928  \n",
       "Neck     0.701067  0.777259  \n",
       "Chest    0.730124  0.695795  \n",
       "Abdomen  0.652148  0.672061  \n",
       "Ankle    0.650841  0.688320  \n",
       "Biceps   1.000000  0.630473  \n",
       "Wrist    0.630473  1.000000  "
      ]
     },
     "execution_count": 4,
     "metadata": {},
     "output_type": "execute_result"
    }
   ],
   "source": [
    "bf.iloc[:, 1::].corr()  # it is a coorelation matrix which is on x variables"
   ]
  },
  {
   "cell_type": "code",
   "execution_count": 5,
   "id": "abd78787",
   "metadata": {},
   "outputs": [
    {
     "data": {
      "text/plain": [
       "Bodyfat    0\n",
       "Age        0\n",
       "Weight     0\n",
       "Height     0\n",
       "Neck       0\n",
       "Chest      0\n",
       "Abdomen    0\n",
       "Ankle      0\n",
       "Biceps     0\n",
       "Wrist      0\n",
       "dtype: int64"
      ]
     },
     "execution_count": 5,
     "metadata": {},
     "output_type": "execute_result"
    }
   ],
   "source": [
    "bf.isnull().sum()"
   ]
  },
  {
   "cell_type": "code",
   "execution_count": 6,
   "id": "6efe9304",
   "metadata": {},
   "outputs": [],
   "source": [
    "bf_x = bf.iloc[:, 1::]     # as dataset is small, we are not doing sampling\n",
    "bf_y = bf.iloc[:, 0]  "
   ]
  },
  {
   "cell_type": "code",
   "execution_count": 7,
   "id": "119d3919",
   "metadata": {},
   "outputs": [
    {
     "data": {
      "text/plain": [
       "LinearRegression()"
      ]
     },
     "execution_count": 7,
     "metadata": {},
     "output_type": "execute_result"
    }
   ],
   "source": [
    "from sklearn.linear_model import LinearRegression\n",
    "\n",
    "lin_bf = LinearRegression()\n",
    "lin_bf.fit(bf_x, bf_y)"
   ]
  },
  {
   "cell_type": "code",
   "execution_count": 8,
   "id": "33b25fc6",
   "metadata": {},
   "outputs": [
    {
     "data": {
      "text/plain": [
       "0.7574718145674209"
      ]
     },
     "execution_count": 8,
     "metadata": {},
     "output_type": "execute_result"
    }
   ],
   "source": [
    "Rsquare_lin = lin_bf.score(bf_x, bf_y)\n",
    "Rsquare_lin"
   ]
  },
  {
   "cell_type": "code",
   "execution_count": 9,
   "id": "74346a6f",
   "metadata": {},
   "outputs": [],
   "source": [
    "pred_lin = lin_bf.predict(bf_x)"
   ]
  },
  {
   "cell_type": "code",
   "execution_count": 10,
   "id": "a1169b17",
   "metadata": {},
   "outputs": [
    {
     "data": {
      "text/plain": [
       "15.392269321317336"
      ]
     },
     "execution_count": 10,
     "metadata": {},
     "output_type": "execute_result"
    }
   ],
   "source": [
    "err_lin = bf_y - pred_lin\n",
    "mse_lin = np.mean(np.square(err_lin))\n",
    "mse_lin"
   ]
  },
  {
   "cell_type": "markdown",
   "id": "282151dd",
   "metadata": {},
   "source": [
    "# Ridge Regression"
   ]
  },
  {
   "cell_type": "code",
   "execution_count": 11,
   "id": "d10d322e",
   "metadata": {},
   "outputs": [],
   "source": [
    "from sklearn.linear_model import Ridge\n",
    "rid_bf = Ridge()"
   ]
  },
  {
   "cell_type": "code",
   "execution_count": 12,
   "id": "f4880667",
   "metadata": {},
   "outputs": [
    {
     "data": {
      "text/plain": [
       "0.7574436753876159"
      ]
     },
     "execution_count": 12,
     "metadata": {},
     "output_type": "execute_result"
    }
   ],
   "source": [
    "rid_bf.fit(bf_x, bf_y)\n",
    "Rsquare_rid = rid_bf.score(bf_x, bf_y)\n",
    "Rsquare_rid"
   ]
  },
  {
   "cell_type": "code",
   "execution_count": 13,
   "id": "babe05a9",
   "metadata": {
    "scrolled": true
   },
   "outputs": [
    {
     "data": {
      "text/plain": [
       "15.392269321317336"
      ]
     },
     "execution_count": 13,
     "metadata": {},
     "output_type": "execute_result"
    }
   ],
   "source": [
    "pred_rid = lin_bf.predict(bf_x)\n",
    "err_rid = bf_y - pred_rid\n",
    "mse_rid = np.mean(np.square(err_rid))\n",
    "mse_rid"
   ]
  },
  {
   "cell_type": "markdown",
   "id": "733c0469",
   "metadata": {},
   "source": [
    "# Lasso Regression"
   ]
  },
  {
   "cell_type": "code",
   "execution_count": 14,
   "id": "94272808",
   "metadata": {},
   "outputs": [],
   "source": [
    "from sklearn.linear_model import Lasso\n",
    "las_bf = Lasso()"
   ]
  },
  {
   "cell_type": "code",
   "execution_count": 15,
   "id": "60e04339",
   "metadata": {},
   "outputs": [
    {
     "data": {
      "text/plain": [
       "0.7315521962084666"
      ]
     },
     "execution_count": 15,
     "metadata": {},
     "output_type": "execute_result"
    }
   ],
   "source": [
    "las_bf.fit(bf_x, bf_y)\n",
    "Rsquare_las = las_bf.score(bf_x, bf_y)\n",
    "Rsquare_las"
   ]
  },
  {
   "cell_type": "code",
   "execution_count": 16,
   "id": "da4ad6f9",
   "metadata": {},
   "outputs": [
    {
     "data": {
      "text/plain": [
       "17.03728120220528"
      ]
     },
     "execution_count": 16,
     "metadata": {},
     "output_type": "execute_result"
    }
   ],
   "source": [
    "pred_las = las_bf.predict(bf_x)\n",
    "err_las = bf_y - pred_las\n",
    "mse_las = np.mean(np.square(err_las))\n",
    "mse_las"
   ]
  },
  {
   "cell_type": "code",
   "execution_count": 17,
   "id": "07995bc4",
   "metadata": {},
   "outputs": [],
   "source": [
    "# comparing the slopes of each model"
   ]
  },
  {
   "cell_type": "code",
   "execution_count": 18,
   "id": "c81fcc7c",
   "metadata": {},
   "outputs": [
    {
     "data": {
      "text/plain": [
       "[0.08377933438604623,\n",
       " -0.08332219313213318,\n",
       " 0.035932255641437386,\n",
       " 0.001122994879005229,\n",
       " -0.13874158595231825,\n",
       " 1.032740937914095,\n",
       " 0.22594260805452332,\n",
       " 0.14827639214847393,\n",
       " -2.203399056450449]"
      ]
     },
     "execution_count": 18,
     "metadata": {},
     "output_type": "execute_result"
    }
   ],
   "source": [
    "list(lin_bf.coef_)"
   ]
  },
  {
   "cell_type": "code",
   "execution_count": 19,
   "id": "82336ebf",
   "metadata": {},
   "outputs": [
    {
     "data": {
      "text/plain": [
       "[0.08163351848683238,\n",
       " -0.08421587570280914,\n",
       " 0.033124917324001565,\n",
       " -0.01323566062959405,\n",
       " -0.13683971170547482,\n",
       " 1.0327911018226692,\n",
       " 0.20932576276169274,\n",
       " 0.14674991467517884,\n",
       " -2.1210462103146055]"
      ]
     },
     "execution_count": 19,
     "metadata": {},
     "output_type": "execute_result"
    }
   ],
   "source": [
    "list(rid_bf.coef_)"
   ]
  },
  {
   "cell_type": "code",
   "execution_count": 20,
   "id": "eb80826e",
   "metadata": {},
   "outputs": [
    {
     "data": {
      "text/plain": [
       "[0.014594621279991097,\n",
       " -0.13525193561002655,\n",
       " -0.0,\n",
       " -0.0,\n",
       " -0.0,\n",
       " 0.966887768952767,\n",
       " -0.0,\n",
       " 0.0,\n",
       " -0.0]"
      ]
     },
     "execution_count": 20,
     "metadata": {},
     "output_type": "execute_result"
    }
   ],
   "source": [
    "list(las_bf.coef_)"
   ]
  },
  {
   "cell_type": "code",
   "execution_count": 21,
   "id": "4bcc12ef",
   "metadata": {},
   "outputs": [
    {
     "data": {
      "text/plain": [
       "Index(['Age', 'Weight', 'Height', 'Neck', 'Chest', 'Abdomen', 'Ankle',\n",
       "       'Biceps', 'Wrist'],\n",
       "      dtype='object')"
      ]
     },
     "execution_count": 21,
     "metadata": {},
     "output_type": "execute_result"
    }
   ],
   "source": [
    "bf_x.columns"
   ]
  },
  {
   "cell_type": "code",
   "execution_count": 22,
   "id": "7067ecd1",
   "metadata": {},
   "outputs": [],
   "source": [
    "#df_with_sopes = pd.dataframe({'Columns':\n",
    "#                             })"
   ]
  },
  {
   "cell_type": "markdown",
   "id": "99ea2614",
   "metadata": {},
   "source": [
    "# Train dataset "
   ]
  },
  {
   "cell_type": "code",
   "execution_count": 23,
   "id": "82d33ce4",
   "metadata": {},
   "outputs": [],
   "source": [
    "tr = pd.read_csv(r'D:\\Datasets\\train.csv')"
   ]
  },
  {
   "cell_type": "code",
   "execution_count": 24,
   "id": "b5cd895d",
   "metadata": {},
   "outputs": [
    {
     "data": {
      "text/html": [
       "<div>\n",
       "<style scoped>\n",
       "    .dataframe tbody tr th:only-of-type {\n",
       "        vertical-align: middle;\n",
       "    }\n",
       "\n",
       "    .dataframe tbody tr th {\n",
       "        vertical-align: top;\n",
       "    }\n",
       "\n",
       "    .dataframe thead th {\n",
       "        text-align: right;\n",
       "    }\n",
       "</style>\n",
       "<table border=\"1\" class=\"dataframe\">\n",
       "  <thead>\n",
       "    <tr style=\"text-align: right;\">\n",
       "      <th></th>\n",
       "      <th>Video_id</th>\n",
       "      <th>category_id</th>\n",
       "      <th>channel_title</th>\n",
       "      <th>subscriber</th>\n",
       "      <th>title</th>\n",
       "      <th>tags</th>\n",
       "      <th>description</th>\n",
       "      <th>Trend_day_count</th>\n",
       "      <th>Tag_count</th>\n",
       "      <th>Trend_tag_count</th>\n",
       "      <th>comment_count</th>\n",
       "      <th>comment_disabled</th>\n",
       "      <th>like dislike disabled</th>\n",
       "      <th>likes</th>\n",
       "      <th>dislike</th>\n",
       "      <th>tag appered in title</th>\n",
       "      <th>views</th>\n",
       "      <th>Unnamed: 17</th>\n",
       "      <th>Unnamed: 18</th>\n",
       "    </tr>\n",
       "  </thead>\n",
       "  <tbody>\n",
       "    <tr>\n",
       "      <th>0</th>\n",
       "      <td>HDR9SQc79</td>\n",
       "      <td>22</td>\n",
       "      <td>CaseyNeistat</td>\n",
       "      <td>9086142.0</td>\n",
       "      <td>WE WANT TO TALK ABOUT OUR MARRIAGE</td>\n",
       "      <td>SHANtell martin</td>\n",
       "      <td>SHANTELL'S CHANNEL - https://www.youtube.com/s...</td>\n",
       "      <td>6.0</td>\n",
       "      <td>21</td>\n",
       "      <td>6</td>\n",
       "      <td></td>\n",
       "      <td>FALSE</td>\n",
       "      <td>FALSE</td>\n",
       "      <td>13342</td>\n",
       "      <td>6089</td>\n",
       "      <td>False</td>\n",
       "      <td>1978978</td>\n",
       "      <td>NaN</td>\n",
       "      <td>NaN</td>\n",
       "    </tr>\n",
       "    <tr>\n",
       "      <th>1</th>\n",
       "      <td>KNH52UF?48</td>\n",
       "      <td>24</td>\n",
       "      <td>LastWeekTonight</td>\n",
       "      <td>5937292.0</td>\n",
       "      <td>The Trump Presidency: Last Week Tonight with J...</td>\n",
       "      <td>last week tonight trump presidency|last week t...</td>\n",
       "      <td>One year after the presidential election, John...</td>\n",
       "      <td>1.0</td>\n",
       "      <td>23</td>\n",
       "      <td>1</td>\n",
       "      <td>116266</td>\n",
       "      <td>TRUE</td>\n",
       "      <td>FALSE</td>\n",
       "      <td>5761</td>\n",
       "      <td>3044</td>\n",
       "      <td>False</td>\n",
       "      <td>1487870</td>\n",
       "      <td>NaN</td>\n",
       "      <td>NaN</td>\n",
       "    </tr>\n",
       "  </tbody>\n",
       "</table>\n",
       "</div>"
      ],
      "text/plain": [
       "     Video_id category_id    channel_title  subscriber  \\\n",
       "0   HDR9SQc79          22     CaseyNeistat   9086142.0   \n",
       "1  KNH52UF?48          24  LastWeekTonight   5937292.0   \n",
       "\n",
       "                                               title  \\\n",
       "0                 WE WANT TO TALK ABOUT OUR MARRIAGE   \n",
       "1  The Trump Presidency: Last Week Tonight with J...   \n",
       "\n",
       "                                                tags  \\\n",
       "0                                    SHANtell martin   \n",
       "1  last week tonight trump presidency|last week t...   \n",
       "\n",
       "                                         description  Trend_day_count  \\\n",
       "0  SHANTELL'S CHANNEL - https://www.youtube.com/s...              6.0   \n",
       "1  One year after the presidential election, John...              1.0   \n",
       "\n",
       "  Tag_count Trend_tag_count comment_count comment_disabled  \\\n",
       "0        21               6                          FALSE   \n",
       "1        23               1        116266             TRUE   \n",
       "\n",
       "  like dislike disabled  likes dislike tag appered in title    views  \\\n",
       "0                 FALSE  13342    6089                False  1978978   \n",
       "1                 FALSE   5761    3044                False  1487870   \n",
       "\n",
       "   Unnamed: 17 Unnamed: 18  \n",
       "0          NaN         NaN  \n",
       "1          NaN         NaN  "
      ]
     },
     "execution_count": 24,
     "metadata": {},
     "output_type": "execute_result"
    }
   ],
   "source": [
    "tr.head(2)"
   ]
  },
  {
   "cell_type": "code",
   "execution_count": 25,
   "id": "51b0f802",
   "metadata": {},
   "outputs": [],
   "source": [
    "pd.options.display.max_rows = None\n",
    "pd.options.display.max_columns = None"
   ]
  },
  {
   "cell_type": "code",
   "execution_count": 26,
   "id": "aaa7a834",
   "metadata": {},
   "outputs": [
    {
     "data": {
      "text/plain": [
       "Video_id                    0\n",
       "category_id                 6\n",
       "channel_title               3\n",
       "subscriber                 23\n",
       "title                       3\n",
       "tags                      152\n",
       "description                65\n",
       "Trend_day_count             1\n",
       "Tag_count                   1\n",
       "Trend_tag_count             1\n",
       "comment_count               0\n",
       "comment_disabled            0\n",
       "like dislike disabled       0\n",
       "likes                       0\n",
       "dislike                     0\n",
       "tag appered in title        1\n",
       "views                       0\n",
       "Unnamed: 17              3197\n",
       "Unnamed: 18              3197\n",
       "dtype: int64"
      ]
     },
     "execution_count": 26,
     "metadata": {},
     "output_type": "execute_result"
    }
   ],
   "source": [
    "tr.isnull().sum()"
   ]
  },
  {
   "cell_type": "code",
   "execution_count": 27,
   "id": "87d30925",
   "metadata": {},
   "outputs": [
    {
     "name": "stdout",
     "output_type": "stream",
     "text": [
      "<class 'pandas.core.frame.DataFrame'>\n",
      "RangeIndex: 3198 entries, 0 to 3197\n",
      "Data columns (total 19 columns):\n",
      " #   Column                 Non-Null Count  Dtype  \n",
      "---  ------                 --------------  -----  \n",
      " 0   Video_id               3198 non-null   object \n",
      " 1   category_id            3192 non-null   object \n",
      " 2   channel_title          3195 non-null   object \n",
      " 3   subscriber             3175 non-null   float64\n",
      " 4   title                  3195 non-null   object \n",
      " 5   tags                   3046 non-null   object \n",
      " 6   description            3133 non-null   object \n",
      " 7   Trend_day_count        3197 non-null   float64\n",
      " 8   Tag_count              3197 non-null   object \n",
      " 9   Trend_tag_count        3197 non-null   object \n",
      " 10  comment_count          3198 non-null   object \n",
      " 11  comment_disabled       3198 non-null   object \n",
      " 12  like dislike disabled  3198 non-null   object \n",
      " 13  likes                  3198 non-null   object \n",
      " 14  dislike                3198 non-null   object \n",
      " 15  tag appered in title   3197 non-null   object \n",
      " 16  views                  3198 non-null   object \n",
      " 17  Unnamed: 17            1 non-null      float64\n",
      " 18  Unnamed: 18            1 non-null      object \n",
      "dtypes: float64(3), object(16)\n",
      "memory usage: 474.8+ KB\n"
     ]
    }
   ],
   "source": [
    "tr.info()"
   ]
  },
  {
   "cell_type": "code",
   "execution_count": 28,
   "id": "94f8a767",
   "metadata": {},
   "outputs": [],
   "source": [
    "from sklearn.preprocessing import LabelEncoder\n",
    "le = LabelEncoder()"
   ]
  },
  {
   "cell_type": "code",
   "execution_count": 29,
   "id": "68e917e7",
   "metadata": {},
   "outputs": [],
   "source": [
    "tr[tr.select_dtypes(include=['object']).columns ] = tr[tr.select_dtypes(include=['object']).columns ].apply(le.fit_transform)"
   ]
  },
  {
   "cell_type": "code",
   "execution_count": 30,
   "id": "72a10078",
   "metadata": {},
   "outputs": [],
   "source": [
    "tr = tr.drop(['Video_id'], axis = 1)\n",
    "tr = tr.drop(['Unnamed: 17'], axis = 1)\n",
    "tr = tr.drop(['Unnamed: 18'], axis = 1)\n",
    "tr.dropna(inplace=True)"
   ]
  },
  {
   "cell_type": "code",
   "execution_count": 31,
   "id": "feeefdac",
   "metadata": {},
   "outputs": [],
   "source": [
    "from sklearn.model_selection import train_test_split"
   ]
  },
  {
   "cell_type": "code",
   "execution_count": 32,
   "id": "464d308d",
   "metadata": {},
   "outputs": [],
   "source": [
    "tr_train, tr_test = train_test_split(tr, test_size=.2)"
   ]
  },
  {
   "cell_type": "code",
   "execution_count": 33,
   "id": "ea42b07e",
   "metadata": {},
   "outputs": [],
   "source": [
    "tr_train_x = tr_train.iloc[:, 1:] \n",
    "tr_train_y = tr_train.iloc[:, 0]"
   ]
  },
  {
   "cell_type": "code",
   "execution_count": 34,
   "id": "7667fe0f",
   "metadata": {},
   "outputs": [],
   "source": [
    "tr_test_x = tr_test.iloc[:, 1:] \n",
    "tr_test_y = tr_test.iloc[:, 0]"
   ]
  },
  {
   "cell_type": "code",
   "execution_count": 35,
   "id": "66ac6632",
   "metadata": {},
   "outputs": [],
   "source": [
    "from sklearn.linear_model import LinearRegression"
   ]
  },
  {
   "cell_type": "code",
   "execution_count": 36,
   "id": "c12b3e85",
   "metadata": {},
   "outputs": [],
   "source": [
    "linreg = LinearRegression()"
   ]
  },
  {
   "cell_type": "code",
   "execution_count": 37,
   "id": "09c64cfb",
   "metadata": {},
   "outputs": [
    {
     "data": {
      "text/plain": [
       "LinearRegression()"
      ]
     },
     "execution_count": 37,
     "metadata": {},
     "output_type": "execute_result"
    }
   ],
   "source": [
    "linreg.fit(tr_train_x, tr_train_y)"
   ]
  },
  {
   "cell_type": "code",
   "execution_count": 38,
   "id": "85b13d00",
   "metadata": {},
   "outputs": [
    {
     "data": {
      "text/plain": [
       "0.01850138398619028"
      ]
     },
     "execution_count": 38,
     "metadata": {},
     "output_type": "execute_result"
    }
   ],
   "source": [
    "Rsquare = linreg.score(tr_train_x , tr_train_y)   #Rsquare \n",
    "Rsquare"
   ]
  },
  {
   "cell_type": "code",
   "execution_count": 39,
   "id": "34ca1ba3",
   "metadata": {},
   "outputs": [
    {
     "data": {
      "text/plain": [
       "(2539, 15)"
      ]
     },
     "execution_count": 39,
     "metadata": {},
     "output_type": "execute_result"
    }
   ],
   "source": [
    "tr_train_x.shape"
   ]
  },
  {
   "cell_type": "code",
   "execution_count": 40,
   "id": "33237d3d",
   "metadata": {},
   "outputs": [
    {
     "data": {
      "text/plain": [
       "0.012666077113337781"
      ]
     },
     "execution_count": 40,
     "metadata": {},
     "output_type": "execute_result"
    }
   ],
   "source": [
    "#Adjusted Rsquare \n",
    "N = tr_train_x.shape[0]\n",
    "K = tr_train_x.shape[1]\n",
    "\n",
    "AdjRsquare =  1 - (( 1 - Rsquare ) * (N - 1) / ( N - K -1))\n",
    "AdjRsquare"
   ]
  },
  {
   "cell_type": "code",
   "execution_count": 41,
   "id": "f679d06e",
   "metadata": {},
   "outputs": [],
   "source": [
    "pred_train = linreg.predict(tr_train_x)\n",
    "pred_test = linreg.predict(tr_test_x)"
   ]
  },
  {
   "cell_type": "code",
   "execution_count": 42,
   "id": "cc5d3515",
   "metadata": {},
   "outputs": [
    {
     "data": {
      "text/plain": [
       "(2539,)"
      ]
     },
     "execution_count": 42,
     "metadata": {},
     "output_type": "execute_result"
    }
   ],
   "source": [
    "pred_train.shape"
   ]
  },
  {
   "cell_type": "code",
   "execution_count": 43,
   "id": "8560246e",
   "metadata": {},
   "outputs": [
    {
     "data": {
      "text/plain": [
       "(635,)"
      ]
     },
     "execution_count": 43,
     "metadata": {},
     "output_type": "execute_result"
    }
   ],
   "source": [
    "pred_test.shape"
   ]
  },
  {
   "cell_type": "code",
   "execution_count": 44,
   "id": "11307d88",
   "metadata": {},
   "outputs": [],
   "source": [
    "error_train = tr_train_y - pred_train\n",
    "error_test = tr_test_y - pred_test"
   ]
  },
  {
   "cell_type": "code",
   "execution_count": 45,
   "id": "87eeaa23",
   "metadata": {},
   "outputs": [
    {
     "data": {
      "text/plain": [
       "-4.621046445151105e-16"
      ]
     },
     "execution_count": 45,
     "metadata": {},
     "output_type": "execute_result"
    }
   ],
   "source": [
    "np.mean(error_train)"
   ]
  },
  {
   "cell_type": "code",
   "execution_count": 46,
   "id": "108e658c",
   "metadata": {},
   "outputs": [
    {
     "data": {
      "text/plain": [
       "inf"
      ]
     },
     "execution_count": 46,
     "metadata": {},
     "output_type": "execute_result"
    }
   ],
   "source": [
    "mape_test = np.mean(np.abs(error_test / tr_test_y) *100)\n",
    "mape_test"
   ]
  },
  {
   "cell_type": "code",
   "execution_count": 47,
   "id": "c57e5e18",
   "metadata": {},
   "outputs": [
    {
     "data": {
      "text/plain": [
       "inf"
      ]
     },
     "execution_count": 47,
     "metadata": {},
     "output_type": "execute_result"
    }
   ],
   "source": [
    "mape_train = np.mean(np.abs(error_train / tr_train_y) *100)\n",
    "mape_train"
   ]
  },
  {
   "cell_type": "code",
   "execution_count": 48,
   "id": "fe9ce6b1",
   "metadata": {},
   "outputs": [
    {
     "data": {
      "text/plain": [
       "count    2539.000000\n",
       "mean        7.226861\n",
       "std         3.957483\n",
       "min         0.000000\n",
       "25%         3.000000\n",
       "50%         9.000000\n",
       "75%        10.000000\n",
       "max        17.000000\n",
       "Name: category_id, dtype: float64"
      ]
     },
     "execution_count": 48,
     "metadata": {},
     "output_type": "execute_result"
    }
   ],
   "source": [
    "tr_train_y.describe()"
   ]
  },
  {
   "cell_type": "code",
   "execution_count": 49,
   "id": "f71b014d",
   "metadata": {},
   "outputs": [],
   "source": [
    "from sklearn.linear_model import Lasso\n",
    "las_tr = Lasso()"
   ]
  },
  {
   "cell_type": "code",
   "execution_count": 50,
   "id": "06681310",
   "metadata": {},
   "outputs": [
    {
     "data": {
      "text/plain": [
       "Lasso()"
      ]
     },
     "execution_count": 50,
     "metadata": {},
     "output_type": "execute_result"
    }
   ],
   "source": [
    "las_tr.fit(tr_train_x, tr_train_y)"
   ]
  },
  {
   "cell_type": "code",
   "execution_count": 51,
   "id": "51e30015",
   "metadata": {},
   "outputs": [],
   "source": [
    "pred_las_train = las_tr.predict(tr_train_x)\n",
    "pred_las_test = las_tr.predict(tr_test_x)"
   ]
  },
  {
   "cell_type": "code",
   "execution_count": 52,
   "id": "58f313e0",
   "metadata": {},
   "outputs": [],
   "source": [
    "err_las_train = tr_train_y - pred_las_train\n",
    "err_las_test = tr_test_y - pred_las_test"
   ]
  },
  {
   "cell_type": "code",
   "execution_count": 53,
   "id": "6a0aec64",
   "metadata": {},
   "outputs": [
    {
     "data": {
      "text/plain": [
       "inf"
      ]
     },
     "execution_count": 53,
     "metadata": {},
     "output_type": "execute_result"
    }
   ],
   "source": [
    "mape_las_train = np.mean(np.abs(err_las_train * 100/ tr_train_y ))\n",
    "mape_las_train"
   ]
  },
  {
   "cell_type": "code",
   "execution_count": 54,
   "id": "4e8b89ff",
   "metadata": {},
   "outputs": [
    {
     "data": {
      "text/plain": [
       "inf"
      ]
     },
     "execution_count": 54,
     "metadata": {},
     "output_type": "execute_result"
    }
   ],
   "source": [
    "mape_las_test = np.mean(np.abs(err_las_test * 100/ tr_test_y ))\n",
    "mape_las_test"
   ]
  },
  {
   "cell_type": "code",
   "execution_count": 55,
   "id": "84ed2a1d",
   "metadata": {},
   "outputs": [],
   "source": [
    "from sklearn.linear_model import Ridge\n",
    "rid = Ridge()"
   ]
  },
  {
   "cell_type": "code",
   "execution_count": 56,
   "id": "fab0fa26",
   "metadata": {},
   "outputs": [
    {
     "name": "stderr",
     "output_type": "stream",
     "text": [
      "C:\\ProgramData\\Anaconda3\\lib\\site-packages\\sklearn\\linear_model\\_ridge.py:157: LinAlgWarning: Ill-conditioned matrix (rcond=7.06985e-17): result may not be accurate.\n",
      "  return linalg.solve(A, Xy, sym_pos=True, overwrite_a=True).T\n"
     ]
    },
    {
     "data": {
      "text/plain": [
       "Ridge()"
      ]
     },
     "execution_count": 56,
     "metadata": {},
     "output_type": "execute_result"
    }
   ],
   "source": [
    "rid.fit(tr_train_x, tr_train_y)"
   ]
  },
  {
   "cell_type": "code",
   "execution_count": 57,
   "id": "6a106566",
   "metadata": {},
   "outputs": [],
   "source": [
    "pred_rid_train = rid.predict(tr_train_x)\n",
    "pred_rid_test = rid.predict(tr_test_x)"
   ]
  },
  {
   "cell_type": "code",
   "execution_count": 58,
   "id": "af0d3fb4",
   "metadata": {},
   "outputs": [],
   "source": [
    "err_rid_train = tr_train_y - pred_rid_train\n",
    "err_rid_test = tr_test_y - pred_rid_test"
   ]
  },
  {
   "cell_type": "code",
   "execution_count": 59,
   "id": "3877bd3c",
   "metadata": {},
   "outputs": [
    {
     "data": {
      "text/plain": [
       "inf"
      ]
     },
     "execution_count": 59,
     "metadata": {},
     "output_type": "execute_result"
    }
   ],
   "source": [
    "mape_rid_train = np.mean(np.abs(err_rid_train * 100/ tr_train_y ))\n",
    "mape_rid_train"
   ]
  },
  {
   "cell_type": "code",
   "execution_count": 60,
   "id": "5ab70cd1",
   "metadata": {},
   "outputs": [
    {
     "data": {
      "text/plain": [
       "inf"
      ]
     },
     "execution_count": 60,
     "metadata": {},
     "output_type": "execute_result"
    }
   ],
   "source": [
    "mape_rid_test = np.mean(np.abs(err_rid_test * 100/ tr_test_y ))\n",
    "mape_rid_test"
   ]
  },
  {
   "cell_type": "code",
   "execution_count": 61,
   "id": "2f8a3a2f",
   "metadata": {},
   "outputs": [
    {
     "data": {
      "text/plain": [
       "0.018501378226367993"
      ]
     },
     "execution_count": 61,
     "metadata": {},
     "output_type": "execute_result"
    }
   ],
   "source": [
    "Rsquare = rid.score(tr_train_x , tr_train_y)   #Rsquare \n",
    "Rsquare"
   ]
  },
  {
   "cell_type": "markdown",
   "id": "1f0f6f03",
   "metadata": {},
   "source": [
    "#  property price "
   ]
  },
  {
   "cell_type": "code",
   "execution_count": 62,
   "id": "930c4da9",
   "metadata": {},
   "outputs": [],
   "source": [
    "import pandas as pd\n",
    "import matplotlib.pyplot as plt\n",
    "import seaborn as sns\n",
    "import numpy as np "
   ]
  },
  {
   "cell_type": "code",
   "execution_count": 63,
   "id": "779a2c71",
   "metadata": {},
   "outputs": [],
   "source": [
    "ppt = pd.read_csv(r'D:\\Datasets\\Property_Price_Train.csv')"
   ]
  },
  {
   "cell_type": "code",
   "execution_count": 64,
   "id": "d549f32c",
   "metadata": {},
   "outputs": [
    {
     "data": {
      "text/html": [
       "<div>\n",
       "<style scoped>\n",
       "    .dataframe tbody tr th:only-of-type {\n",
       "        vertical-align: middle;\n",
       "    }\n",
       "\n",
       "    .dataframe tbody tr th {\n",
       "        vertical-align: top;\n",
       "    }\n",
       "\n",
       "    .dataframe thead th {\n",
       "        text-align: right;\n",
       "    }\n",
       "</style>\n",
       "<table border=\"1\" class=\"dataframe\">\n",
       "  <thead>\n",
       "    <tr style=\"text-align: right;\">\n",
       "      <th></th>\n",
       "      <th>Id</th>\n",
       "      <th>Building_Class</th>\n",
       "      <th>Zoning_Class</th>\n",
       "      <th>Lot_Extent</th>\n",
       "      <th>Lot_Size</th>\n",
       "      <th>Road_Type</th>\n",
       "      <th>Lane_Type</th>\n",
       "      <th>Property_Shape</th>\n",
       "      <th>Land_Outline</th>\n",
       "      <th>Utility_Type</th>\n",
       "      <th>Lot_Configuration</th>\n",
       "      <th>Property_Slope</th>\n",
       "      <th>Neighborhood</th>\n",
       "      <th>Condition1</th>\n",
       "      <th>Condition2</th>\n",
       "      <th>House_Type</th>\n",
       "      <th>House_Design</th>\n",
       "      <th>Overall_Material</th>\n",
       "      <th>House_Condition</th>\n",
       "      <th>Construction_Year</th>\n",
       "      <th>Remodel_Year</th>\n",
       "      <th>Roof_Design</th>\n",
       "      <th>Roof_Quality</th>\n",
       "      <th>Exterior1st</th>\n",
       "      <th>Exterior2nd</th>\n",
       "      <th>Brick_Veneer_Type</th>\n",
       "      <th>Brick_Veneer_Area</th>\n",
       "      <th>Exterior_Material</th>\n",
       "      <th>Exterior_Condition</th>\n",
       "      <th>Foundation_Type</th>\n",
       "      <th>Basement_Height</th>\n",
       "      <th>Basement_Condition</th>\n",
       "      <th>Exposure_Level</th>\n",
       "      <th>BsmtFinType1</th>\n",
       "      <th>BsmtFinSF1</th>\n",
       "      <th>BsmtFinType2</th>\n",
       "      <th>BsmtFinSF2</th>\n",
       "      <th>BsmtUnfSF</th>\n",
       "      <th>Total_Basement_Area</th>\n",
       "      <th>Heating_Type</th>\n",
       "      <th>Heating_Quality</th>\n",
       "      <th>Air_Conditioning</th>\n",
       "      <th>Electrical_System</th>\n",
       "      <th>First_Floor_Area</th>\n",
       "      <th>Second_Floor_Area</th>\n",
       "      <th>LowQualFinSF</th>\n",
       "      <th>Grade_Living_Area</th>\n",
       "      <th>Underground_Full_Bathroom</th>\n",
       "      <th>Underground_Half_Bathroom</th>\n",
       "      <th>Full_Bathroom_Above_Grade</th>\n",
       "      <th>Half_Bathroom_Above_Grade</th>\n",
       "      <th>Bedroom_Above_Grade</th>\n",
       "      <th>Kitchen_Above_Grade</th>\n",
       "      <th>Kitchen_Quality</th>\n",
       "      <th>Rooms_Above_Grade</th>\n",
       "      <th>Functional_Rate</th>\n",
       "      <th>Fireplaces</th>\n",
       "      <th>Fireplace_Quality</th>\n",
       "      <th>Garage</th>\n",
       "      <th>Garage_Built_Year</th>\n",
       "      <th>Garage_Finish_Year</th>\n",
       "      <th>Garage_Size</th>\n",
       "      <th>Garage_Area</th>\n",
       "      <th>Garage_Quality</th>\n",
       "      <th>Garage_Condition</th>\n",
       "      <th>Pavedd_Drive</th>\n",
       "      <th>W_Deck_Area</th>\n",
       "      <th>Open_Lobby_Area</th>\n",
       "      <th>Enclosed_Lobby_Area</th>\n",
       "      <th>Three_Season_Lobby_Area</th>\n",
       "      <th>Screen_Lobby_Area</th>\n",
       "      <th>Pool_Area</th>\n",
       "      <th>Pool_Quality</th>\n",
       "      <th>Fence_Quality</th>\n",
       "      <th>Miscellaneous_Feature</th>\n",
       "      <th>Miscellaneous_Value</th>\n",
       "      <th>Month_Sold</th>\n",
       "      <th>Year_Sold</th>\n",
       "      <th>Sale_Type</th>\n",
       "      <th>Sale_Condition</th>\n",
       "      <th>Sale_Price</th>\n",
       "    </tr>\n",
       "  </thead>\n",
       "  <tbody>\n",
       "    <tr>\n",
       "      <th>0</th>\n",
       "      <td>1</td>\n",
       "      <td>60</td>\n",
       "      <td>RLD</td>\n",
       "      <td>65.0</td>\n",
       "      <td>8450</td>\n",
       "      <td>Paved</td>\n",
       "      <td>NaN</td>\n",
       "      <td>Reg</td>\n",
       "      <td>Lvl</td>\n",
       "      <td>AllPub</td>\n",
       "      <td>I</td>\n",
       "      <td>GS</td>\n",
       "      <td>CollgCr</td>\n",
       "      <td>Norm</td>\n",
       "      <td>Norm</td>\n",
       "      <td>1Fam</td>\n",
       "      <td>2Story</td>\n",
       "      <td>7</td>\n",
       "      <td>5</td>\n",
       "      <td>2003</td>\n",
       "      <td>2003</td>\n",
       "      <td>Gable</td>\n",
       "      <td>SS</td>\n",
       "      <td>VinylSd</td>\n",
       "      <td>VinylSd</td>\n",
       "      <td>BrkFace</td>\n",
       "      <td>196.0</td>\n",
       "      <td>Gd</td>\n",
       "      <td>TA</td>\n",
       "      <td>PC</td>\n",
       "      <td>Gd</td>\n",
       "      <td>TA</td>\n",
       "      <td>No</td>\n",
       "      <td>GLQ</td>\n",
       "      <td>706</td>\n",
       "      <td>Unf</td>\n",
       "      <td>0</td>\n",
       "      <td>150</td>\n",
       "      <td>856</td>\n",
       "      <td>GasA</td>\n",
       "      <td>Ex</td>\n",
       "      <td>Y</td>\n",
       "      <td>SBrkr</td>\n",
       "      <td>856</td>\n",
       "      <td>854</td>\n",
       "      <td>0</td>\n",
       "      <td>1710</td>\n",
       "      <td>1</td>\n",
       "      <td>0</td>\n",
       "      <td>2</td>\n",
       "      <td>1</td>\n",
       "      <td>3</td>\n",
       "      <td>1</td>\n",
       "      <td>Gd</td>\n",
       "      <td>8</td>\n",
       "      <td>TF</td>\n",
       "      <td>0</td>\n",
       "      <td>NaN</td>\n",
       "      <td>Attchd</td>\n",
       "      <td>2003.0</td>\n",
       "      <td>RFn</td>\n",
       "      <td>2</td>\n",
       "      <td>1085.793744</td>\n",
       "      <td>TA</td>\n",
       "      <td>TA</td>\n",
       "      <td>Y</td>\n",
       "      <td>163.78808</td>\n",
       "      <td>69.596115</td>\n",
       "      <td>20.337934</td>\n",
       "      <td>0</td>\n",
       "      <td>0</td>\n",
       "      <td>0</td>\n",
       "      <td>NaN</td>\n",
       "      <td>NaN</td>\n",
       "      <td>NaN</td>\n",
       "      <td>0</td>\n",
       "      <td>2</td>\n",
       "      <td>2008</td>\n",
       "      <td>WD</td>\n",
       "      <td>Normal</td>\n",
       "      <td>208500</td>\n",
       "    </tr>\n",
       "  </tbody>\n",
       "</table>\n",
       "</div>"
      ],
      "text/plain": [
       "   Id  Building_Class Zoning_Class  Lot_Extent  Lot_Size Road_Type Lane_Type  \\\n",
       "0   1              60          RLD        65.0      8450     Paved       NaN   \n",
       "\n",
       "  Property_Shape Land_Outline Utility_Type Lot_Configuration Property_Slope  \\\n",
       "0            Reg          Lvl       AllPub                 I             GS   \n",
       "\n",
       "  Neighborhood Condition1 Condition2 House_Type House_Design  \\\n",
       "0      CollgCr       Norm       Norm       1Fam       2Story   \n",
       "\n",
       "   Overall_Material  House_Condition  Construction_Year  Remodel_Year  \\\n",
       "0                 7                5               2003          2003   \n",
       "\n",
       "  Roof_Design Roof_Quality Exterior1st Exterior2nd Brick_Veneer_Type  \\\n",
       "0       Gable           SS     VinylSd     VinylSd           BrkFace   \n",
       "\n",
       "   Brick_Veneer_Area Exterior_Material Exterior_Condition Foundation_Type  \\\n",
       "0              196.0                Gd                 TA              PC   \n",
       "\n",
       "  Basement_Height Basement_Condition Exposure_Level BsmtFinType1  BsmtFinSF1  \\\n",
       "0              Gd                 TA             No          GLQ         706   \n",
       "\n",
       "  BsmtFinType2  BsmtFinSF2  BsmtUnfSF  Total_Basement_Area Heating_Type  \\\n",
       "0          Unf           0        150                  856         GasA   \n",
       "\n",
       "  Heating_Quality Air_Conditioning Electrical_System  First_Floor_Area  \\\n",
       "0              Ex                Y             SBrkr               856   \n",
       "\n",
       "   Second_Floor_Area  LowQualFinSF  Grade_Living_Area  \\\n",
       "0                854             0               1710   \n",
       "\n",
       "   Underground_Full_Bathroom  Underground_Half_Bathroom  \\\n",
       "0                          1                          0   \n",
       "\n",
       "   Full_Bathroom_Above_Grade  Half_Bathroom_Above_Grade  Bedroom_Above_Grade  \\\n",
       "0                          2                          1                    3   \n",
       "\n",
       "   Kitchen_Above_Grade Kitchen_Quality  Rooms_Above_Grade Functional_Rate  \\\n",
       "0                    1              Gd                  8              TF   \n",
       "\n",
       "   Fireplaces Fireplace_Quality  Garage  Garage_Built_Year Garage_Finish_Year  \\\n",
       "0           0               NaN  Attchd             2003.0                RFn   \n",
       "\n",
       "   Garage_Size  Garage_Area Garage_Quality Garage_Condition Pavedd_Drive  \\\n",
       "0            2  1085.793744             TA               TA            Y   \n",
       "\n",
       "   W_Deck_Area  Open_Lobby_Area  Enclosed_Lobby_Area  Three_Season_Lobby_Area  \\\n",
       "0    163.78808        69.596115            20.337934                        0   \n",
       "\n",
       "   Screen_Lobby_Area  Pool_Area Pool_Quality Fence_Quality  \\\n",
       "0                  0          0          NaN           NaN   \n",
       "\n",
       "  Miscellaneous_Feature  Miscellaneous_Value  Month_Sold  Year_Sold Sale_Type  \\\n",
       "0                   NaN                    0           2       2008        WD   \n",
       "\n",
       "  Sale_Condition  Sale_Price  \n",
       "0         Normal      208500  "
      ]
     },
     "execution_count": 64,
     "metadata": {},
     "output_type": "execute_result"
    }
   ],
   "source": [
    "ppt.head(1)"
   ]
  },
  {
   "cell_type": "code",
   "execution_count": 65,
   "id": "6dc1d076",
   "metadata": {},
   "outputs": [],
   "source": [
    "pd.options.display.max_rows = None\n",
    "pd.options.display.max_columns = None"
   ]
  },
  {
   "cell_type": "code",
   "execution_count": 66,
   "id": "b59a038e",
   "metadata": {},
   "outputs": [
    {
     "data": {
      "text/plain": [
       "Id                              0\n",
       "Building_Class                  0\n",
       "Zoning_Class                    0\n",
       "Lot_Extent                    259\n",
       "Lot_Size                        0\n",
       "Road_Type                       0\n",
       "Lane_Type                    1368\n",
       "Property_Shape                  0\n",
       "Land_Outline                    0\n",
       "Utility_Type                    0\n",
       "Lot_Configuration               0\n",
       "Property_Slope                  0\n",
       "Neighborhood                    0\n",
       "Condition1                      0\n",
       "Condition2                      0\n",
       "House_Type                      0\n",
       "House_Design                    0\n",
       "Overall_Material                0\n",
       "House_Condition                 0\n",
       "Construction_Year               0\n",
       "Remodel_Year                    0\n",
       "Roof_Design                     0\n",
       "Roof_Quality                    0\n",
       "Exterior1st                     0\n",
       "Exterior2nd                     0\n",
       "Brick_Veneer_Type               8\n",
       "Brick_Veneer_Area               8\n",
       "Exterior_Material               0\n",
       "Exterior_Condition              0\n",
       "Foundation_Type                 0\n",
       "Basement_Height                37\n",
       "Basement_Condition             37\n",
       "Exposure_Level                 38\n",
       "BsmtFinType1                   37\n",
       "BsmtFinSF1                      0\n",
       "BsmtFinType2                   38\n",
       "BsmtFinSF2                      0\n",
       "BsmtUnfSF                       0\n",
       "Total_Basement_Area             0\n",
       "Heating_Type                    0\n",
       "Heating_Quality                 0\n",
       "Air_Conditioning                0\n",
       "Electrical_System               1\n",
       "First_Floor_Area                0\n",
       "Second_Floor_Area               0\n",
       "LowQualFinSF                    0\n",
       "Grade_Living_Area               0\n",
       "Underground_Full_Bathroom       0\n",
       "Underground_Half_Bathroom       0\n",
       "Full_Bathroom_Above_Grade       0\n",
       "Half_Bathroom_Above_Grade       0\n",
       "Bedroom_Above_Grade             0\n",
       "Kitchen_Above_Grade             0\n",
       "Kitchen_Quality                 0\n",
       "Rooms_Above_Grade               0\n",
       "Functional_Rate                 0\n",
       "Fireplaces                      0\n",
       "Fireplace_Quality             689\n",
       "Garage                         81\n",
       "Garage_Built_Year              81\n",
       "Garage_Finish_Year             81\n",
       "Garage_Size                     0\n",
       "Garage_Area                     0\n",
       "Garage_Quality                 81\n",
       "Garage_Condition               81\n",
       "Pavedd_Drive                    0\n",
       "W_Deck_Area                     0\n",
       "Open_Lobby_Area                 0\n",
       "Enclosed_Lobby_Area             0\n",
       "Three_Season_Lobby_Area         0\n",
       "Screen_Lobby_Area               0\n",
       "Pool_Area                       0\n",
       "Pool_Quality                 1452\n",
       "Fence_Quality                1178\n",
       "Miscellaneous_Feature        1405\n",
       "Miscellaneous_Value             0\n",
       "Month_Sold                      0\n",
       "Year_Sold                       0\n",
       "Sale_Type                       0\n",
       "Sale_Condition                  0\n",
       "Sale_Price                      0\n",
       "dtype: int64"
      ]
     },
     "execution_count": 66,
     "metadata": {},
     "output_type": "execute_result"
    }
   ],
   "source": [
    "ppt.isnull().sum()"
   ]
  },
  {
   "cell_type": "code",
   "execution_count": 67,
   "id": "7c217eb4",
   "metadata": {},
   "outputs": [
    {
     "data": {
      "text/plain": [
       "Index(['Lane_Type', 'Fireplace_Quality', 'Pool_Quality', 'Fence_Quality',\n",
       "       'Miscellaneous_Feature'],\n",
       "      dtype='object')"
      ]
     },
     "execution_count": 67,
     "metadata": {},
     "output_type": "execute_result"
    }
   ],
   "source": [
    "ppt.columns[ ppt.isnull().sum()*100 / ppt.shape[0] >40]"
   ]
  },
  {
   "cell_type": "code",
   "execution_count": 68,
   "id": "ae644bd6",
   "metadata": {},
   "outputs": [],
   "source": [
    "ppt = ppt.drop(['Lane_Type', 'Fireplace_Quality', 'Pool_Quality', 'Fence_Quality',\n",
    "       'Miscellaneous_Feature','Id'], axis = 1)"
   ]
  },
  {
   "cell_type": "code",
   "execution_count": 69,
   "id": "87cd5f3e",
   "metadata": {},
   "outputs": [
    {
     "data": {
      "text/plain": [
       "(1459, 75)"
      ]
     },
     "execution_count": 69,
     "metadata": {},
     "output_type": "execute_result"
    }
   ],
   "source": [
    "ppt.shape"
   ]
  },
  {
   "cell_type": "code",
   "execution_count": 70,
   "id": "0b16332f",
   "metadata": {},
   "outputs": [
    {
     "data": {
      "text/plain": [
       "Index(['Lot_Extent', 'Brick_Veneer_Type', 'Brick_Veneer_Area',\n",
       "       'Basement_Height', 'Basement_Condition', 'Exposure_Level',\n",
       "       'BsmtFinType1', 'BsmtFinType2', 'Electrical_System', 'Garage',\n",
       "       'Garage_Built_Year', 'Garage_Finish_Year', 'Garage_Quality',\n",
       "       'Garage_Condition'],\n",
       "      dtype='object')"
      ]
     },
     "execution_count": 70,
     "metadata": {},
     "output_type": "execute_result"
    }
   ],
   "source": [
    "ppt.columns[ ppt.isnull().sum() > 0]"
   ]
  },
  {
   "cell_type": "code",
   "execution_count": 71,
   "id": "fb19fa64",
   "metadata": {},
   "outputs": [],
   "source": [
    "ppt.Lot_Extent.fillna(ppt.Lot_Extent.mean(), inplace = True)\n",
    "ppt.Brick_Veneer_Type.fillna('None',inplace = True)\n",
    "ppt.Brick_Veneer_Area.fillna(ppt.Brick_Veneer_Area.mean(), inplace = True)\n",
    "ppt.Basement_Height.fillna('TA', inplace = True)\n",
    "ppt.Basement_Condition.fillna('TA', inplace = True)\n",
    "ppt.Exposure_Level.fillna('No', inplace = True)\n",
    "ppt.BsmtFinType1.fillna('Unf', inplace = True)\n",
    "ppt.BsmtFinType2.fillna('Unf', inplace = True)\n",
    "ppt.Electrical_System.fillna('Sbrkr', inplace = True)\n",
    "ppt.Garage.fillna('Attchd', inplace = True)\n",
    "ppt.Garage_Built_Year.fillna(ppt.Garage_Built_Year.mean(), inplace = True)\n",
    "ppt.Garage_Finish_Year.fillna('Unf', inplace = True)\n",
    "ppt.Garage_Quality.fillna('TA', inplace = True)\n",
    "ppt.Garage_Condition.fillna('TA', inplace = True)\n"
   ]
  },
  {
   "cell_type": "code",
   "execution_count": 72,
   "id": "55e62257",
   "metadata": {},
   "outputs": [
    {
     "data": {
      "text/plain": [
       "Index([], dtype='object')"
      ]
     },
     "execution_count": 72,
     "metadata": {},
     "output_type": "execute_result"
    }
   ],
   "source": [
    "ppt.columns[ ppt.isnull().sum() > 0]"
   ]
  },
  {
   "cell_type": "code",
   "execution_count": 73,
   "id": "756cb528",
   "metadata": {},
   "outputs": [],
   "source": [
    "from sklearn.preprocessing import LabelEncoder"
   ]
  },
  {
   "cell_type": "code",
   "execution_count": 74,
   "id": "4edef172",
   "metadata": {},
   "outputs": [],
   "source": [
    "le = LabelEncoder()"
   ]
  },
  {
   "cell_type": "code",
   "execution_count": 75,
   "id": "18046cff",
   "metadata": {},
   "outputs": [],
   "source": [
    "ppt[ppt.select_dtypes(include='object').columns] = ppt[ppt.select_dtypes(include='object').columns].apply(le.fit_transform)"
   ]
  },
  {
   "cell_type": "code",
   "execution_count": 76,
   "id": "f8997ed9",
   "metadata": {},
   "outputs": [
    {
     "name": "stdout",
     "output_type": "stream",
     "text": [
      "<class 'pandas.core.frame.DataFrame'>\n",
      "RangeIndex: 1459 entries, 0 to 1458\n",
      "Data columns (total 75 columns):\n",
      " #   Column                     Non-Null Count  Dtype  \n",
      "---  ------                     --------------  -----  \n",
      " 0   Building_Class             1459 non-null   int64  \n",
      " 1   Zoning_Class               1459 non-null   int32  \n",
      " 2   Lot_Extent                 1459 non-null   float64\n",
      " 3   Lot_Size                   1459 non-null   int64  \n",
      " 4   Road_Type                  1459 non-null   int32  \n",
      " 5   Property_Shape             1459 non-null   int32  \n",
      " 6   Land_Outline               1459 non-null   int32  \n",
      " 7   Utility_Type               1459 non-null   int32  \n",
      " 8   Lot_Configuration          1459 non-null   int32  \n",
      " 9   Property_Slope             1459 non-null   int32  \n",
      " 10  Neighborhood               1459 non-null   int32  \n",
      " 11  Condition1                 1459 non-null   int32  \n",
      " 12  Condition2                 1459 non-null   int32  \n",
      " 13  House_Type                 1459 non-null   int32  \n",
      " 14  House_Design               1459 non-null   int32  \n",
      " 15  Overall_Material           1459 non-null   int64  \n",
      " 16  House_Condition            1459 non-null   int64  \n",
      " 17  Construction_Year          1459 non-null   int64  \n",
      " 18  Remodel_Year               1459 non-null   int64  \n",
      " 19  Roof_Design                1459 non-null   int32  \n",
      " 20  Roof_Quality               1459 non-null   int32  \n",
      " 21  Exterior1st                1459 non-null   int32  \n",
      " 22  Exterior2nd                1459 non-null   int32  \n",
      " 23  Brick_Veneer_Type          1459 non-null   int32  \n",
      " 24  Brick_Veneer_Area          1459 non-null   float64\n",
      " 25  Exterior_Material          1459 non-null   int32  \n",
      " 26  Exterior_Condition         1459 non-null   int32  \n",
      " 27  Foundation_Type            1459 non-null   int32  \n",
      " 28  Basement_Height            1459 non-null   int32  \n",
      " 29  Basement_Condition         1459 non-null   int32  \n",
      " 30  Exposure_Level             1459 non-null   int32  \n",
      " 31  BsmtFinType1               1459 non-null   int32  \n",
      " 32  BsmtFinSF1                 1459 non-null   int64  \n",
      " 33  BsmtFinType2               1459 non-null   int32  \n",
      " 34  BsmtFinSF2                 1459 non-null   int64  \n",
      " 35  BsmtUnfSF                  1459 non-null   int64  \n",
      " 36  Total_Basement_Area        1459 non-null   int64  \n",
      " 37  Heating_Type               1459 non-null   int32  \n",
      " 38  Heating_Quality            1459 non-null   int32  \n",
      " 39  Air_Conditioning           1459 non-null   int32  \n",
      " 40  Electrical_System          1459 non-null   int32  \n",
      " 41  First_Floor_Area           1459 non-null   int64  \n",
      " 42  Second_Floor_Area          1459 non-null   int64  \n",
      " 43  LowQualFinSF               1459 non-null   int64  \n",
      " 44  Grade_Living_Area          1459 non-null   int64  \n",
      " 45  Underground_Full_Bathroom  1459 non-null   int64  \n",
      " 46  Underground_Half_Bathroom  1459 non-null   int64  \n",
      " 47  Full_Bathroom_Above_Grade  1459 non-null   int64  \n",
      " 48  Half_Bathroom_Above_Grade  1459 non-null   int64  \n",
      " 49  Bedroom_Above_Grade        1459 non-null   int64  \n",
      " 50  Kitchen_Above_Grade        1459 non-null   int64  \n",
      " 51  Kitchen_Quality            1459 non-null   int32  \n",
      " 52  Rooms_Above_Grade          1459 non-null   int64  \n",
      " 53  Functional_Rate            1459 non-null   int32  \n",
      " 54  Fireplaces                 1459 non-null   int64  \n",
      " 55  Garage                     1459 non-null   int32  \n",
      " 56  Garage_Built_Year          1459 non-null   float64\n",
      " 57  Garage_Finish_Year         1459 non-null   int32  \n",
      " 58  Garage_Size                1459 non-null   int64  \n",
      " 59  Garage_Area                1459 non-null   float64\n",
      " 60  Garage_Quality             1459 non-null   int32  \n",
      " 61  Garage_Condition           1459 non-null   int32  \n",
      " 62  Pavedd_Drive               1459 non-null   int32  \n",
      " 63  W_Deck_Area                1459 non-null   float64\n",
      " 64  Open_Lobby_Area            1459 non-null   float64\n",
      " 65  Enclosed_Lobby_Area        1459 non-null   float64\n",
      " 66  Three_Season_Lobby_Area    1459 non-null   int64  \n",
      " 67  Screen_Lobby_Area          1459 non-null   int64  \n",
      " 68  Pool_Area                  1459 non-null   int64  \n",
      " 69  Miscellaneous_Value        1459 non-null   int64  \n",
      " 70  Month_Sold                 1459 non-null   int64  \n",
      " 71  Year_Sold                  1459 non-null   int64  \n",
      " 72  Sale_Type                  1459 non-null   int32  \n",
      " 73  Sale_Condition             1459 non-null   int32  \n",
      " 74  Sale_Price                 1459 non-null   int64  \n",
      "dtypes: float64(7), int32(38), int64(30)\n",
      "memory usage: 638.4 KB\n"
     ]
    }
   ],
   "source": [
    "ppt.info()"
   ]
  },
  {
   "cell_type": "code",
   "execution_count": 77,
   "id": "88034dd9",
   "metadata": {},
   "outputs": [],
   "source": [
    "from sklearn.model_selection import train_test_split\n",
    "ppt_train, ppt_test = train_test_split(ppt, test_size = .2)"
   ]
  },
  {
   "cell_type": "code",
   "execution_count": 78,
   "id": "b125641f",
   "metadata": {},
   "outputs": [],
   "source": [
    "ppt_train_x = ppt_train.iloc[:, 0:-1]\n",
    "ppt_train_y = ppt_train.iloc[:, -1]"
   ]
  },
  {
   "cell_type": "code",
   "execution_count": 79,
   "id": "d0e0cd1a",
   "metadata": {},
   "outputs": [],
   "source": [
    "ppt_test_x = ppt_test.iloc[:, 0:-1]\n",
    "ppt_test_y = ppt_test.iloc[:, -1]"
   ]
  },
  {
   "cell_type": "markdown",
   "id": "16185b09",
   "metadata": {},
   "source": [
    "# SGD"
   ]
  },
  {
   "cell_type": "code",
   "execution_count": 80,
   "id": "bc10fe89",
   "metadata": {},
   "outputs": [],
   "source": [
    "from sklearn import preprocessing"
   ]
  },
  {
   "cell_type": "code",
   "execution_count": 81,
   "id": "5a66d334",
   "metadata": {},
   "outputs": [],
   "source": [
    "ppt_train_x = preprocessing.scale(ppt_train_x)\n",
    "ppt_test_x = preprocessing.scale(ppt_test_x)"
   ]
  },
  {
   "cell_type": "code",
   "execution_count": 82,
   "id": "14b54139",
   "metadata": {},
   "outputs": [
    {
     "data": {
      "text/plain": [
       "SGDRegressor()"
      ]
     },
     "execution_count": 82,
     "metadata": {},
     "output_type": "execute_result"
    }
   ],
   "source": [
    "from sklearn.linear_model import SGDRegressor\n",
    "reg_ppt = SGDRegressor()\n",
    "reg_ppt.fit(ppt_train_x, ppt_train_y)"
   ]
  },
  {
   "cell_type": "code",
   "execution_count": 83,
   "id": "28fcf6b8",
   "metadata": {},
   "outputs": [
    {
     "data": {
      "text/plain": [
       "SGDRegressor()"
      ]
     },
     "execution_count": 83,
     "metadata": {},
     "output_type": "execute_result"
    }
   ],
   "source": [
    "reg_ppt.fit(ppt_train_x, ppt_train_y)"
   ]
  },
  {
   "cell_type": "code",
   "execution_count": 84,
   "id": "613afc9b",
   "metadata": {},
   "outputs": [
    {
     "data": {
      "text/plain": [
       "0.8712612243380348"
      ]
     },
     "execution_count": 84,
     "metadata": {},
     "output_type": "execute_result"
    }
   ],
   "source": [
    "Rsquare = reg_ppt.score(ppt_train_x, ppt_train_y)\n",
    "Rsquare"
   ]
  },
  {
   "cell_type": "code",
   "execution_count": 85,
   "id": "ba94e52d",
   "metadata": {},
   "outputs": [
    {
     "data": {
      "text/plain": [
       "0.8625371681118577"
      ]
     },
     "execution_count": 85,
     "metadata": {},
     "output_type": "execute_result"
    }
   ],
   "source": [
    "N = ppt_train_x.shape[0]\n",
    "K = ppt_train_x.shape[1]\n",
    "AdRsquare = 1 - (1-Rsquare)*(N-1)/(N-K-1)\n",
    "AdRsquare"
   ]
  },
  {
   "cell_type": "code",
   "execution_count": 86,
   "id": "80593797",
   "metadata": {},
   "outputs": [],
   "source": [
    "pred_train = reg_ppt.predict(ppt_train_x)\n",
    "pred_test  = reg_ppt.predict(ppt_test_x)"
   ]
  },
  {
   "cell_type": "code",
   "execution_count": 87,
   "id": "ce043901",
   "metadata": {},
   "outputs": [],
   "source": [
    "err_train = ppt_train_y - pred_train\n",
    "err_test  = ppt_test_y  - pred_test"
   ]
  },
  {
   "cell_type": "code",
   "execution_count": 88,
   "id": "33803d66",
   "metadata": {},
   "outputs": [
    {
     "data": {
      "text/plain": [
       "46.85797437890642"
      ]
     },
     "execution_count": 88,
     "metadata": {},
     "output_type": "execute_result"
    }
   ],
   "source": [
    "np.mean(err_train)"
   ]
  },
  {
   "cell_type": "code",
   "execution_count": 89,
   "id": "c725ce87",
   "metadata": {},
   "outputs": [
    {
     "data": {
      "text/plain": [
       "12.199526924849351"
      ]
     },
     "execution_count": 89,
     "metadata": {},
     "output_type": "execute_result"
    }
   ],
   "source": [
    "mape_test = np.mean(np.abs(err_test * 100 / ppt_test_y))\n",
    "mape_test"
   ]
  },
  {
   "cell_type": "code",
   "execution_count": null,
   "id": "a5746359",
   "metadata": {},
   "outputs": [],
   "source": []
  }
 ],
 "metadata": {
  "kernelspec": {
   "display_name": "Python 3 (ipykernel)",
   "language": "python",
   "name": "python3"
  },
  "language_info": {
   "codemirror_mode": {
    "name": "ipython",
    "version": 3
   },
   "file_extension": ".py",
   "mimetype": "text/x-python",
   "name": "python",
   "nbconvert_exporter": "python",
   "pygments_lexer": "ipython3",
   "version": "3.9.11"
  }
 },
 "nbformat": 4,
 "nbformat_minor": 5
}
