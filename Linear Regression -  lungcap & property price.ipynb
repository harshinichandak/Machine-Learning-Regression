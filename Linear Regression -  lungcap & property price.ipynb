{
 "cells": [
  {
   "cell_type": "code",
   "execution_count": 1,
   "id": "6fcaafd0",
   "metadata": {},
   "outputs": [],
   "source": [
    "import numpy as np\n",
    "import matplotlib.pyplot as plt\n",
    "import seaborn as sn\n",
    "import pandas as pd"
   ]
  },
  {
   "cell_type": "code",
   "execution_count": 2,
   "id": "b3902165",
   "metadata": {},
   "outputs": [],
   "source": [
    "lcn = pd.read_csv(r\"D:\\Datasets\\LungCapData.csv\")"
   ]
  },
  {
   "cell_type": "code",
   "execution_count": 3,
   "id": "55a8e3a5",
   "metadata": {},
   "outputs": [
    {
     "data": {
      "text/plain": [
       "<bound method NDFrame.head of      LungCap  Age  Height Smoke  Gender Caesarean\n",
       "0      6.475    6    62.1    no    male        no\n",
       "1     10.125   18    74.7   yes  female        no\n",
       "2      9.550   16    69.7    no  female       yes\n",
       "3     11.125   14    71.0    no    male        no\n",
       "4      4.800    5    56.9    no    male        no\n",
       "..       ...  ...     ...   ...     ...       ...\n",
       "720    5.725    9    56.0    no  female        no\n",
       "721    9.050   18    72.0   yes    male       yes\n",
       "722    3.850   11    60.5   yes  female        no\n",
       "723    9.825   15    64.9    no  female        no\n",
       "724    7.100   10    67.7    no    male        no\n",
       "\n",
       "[725 rows x 6 columns]>"
      ]
     },
     "execution_count": 3,
     "metadata": {},
     "output_type": "execute_result"
    }
   ],
   "source": [
    "lcn.head"
   ]
  },
  {
   "cell_type": "code",
   "execution_count": 4,
   "id": "3c87ead7",
   "metadata": {},
   "outputs": [
    {
     "data": {
      "text/plain": [
       "LungCap      0\n",
       "Age          0\n",
       "Height       0\n",
       "Smoke        0\n",
       "Gender       0\n",
       "Caesarean    0\n",
       "dtype: int64"
      ]
     },
     "execution_count": 4,
     "metadata": {},
     "output_type": "execute_result"
    }
   ],
   "source": [
    "lcn.isnull().sum()"
   ]
  },
  {
   "cell_type": "code",
   "execution_count": 5,
   "id": "6df15ca0",
   "metadata": {},
   "outputs": [],
   "source": [
    "# DATA cleaning \n",
    "\n",
    "lcn.Smoke = lcn.Smoke.replace({'no': 1 , \"yes\" :1})\n",
    "lcn.Caesarean = lcn.Caesarean.replace({'no': 1 , \"yes\" :1})\n",
    "lcn.Gender = lcn.Gender.replace({'male': 1 , \"female\" :1})"
   ]
  },
  {
   "cell_type": "code",
   "execution_count": 6,
   "id": "3c0aec44",
   "metadata": {},
   "outputs": [
    {
     "data": {
      "text/html": [
       "<div>\n",
       "<style scoped>\n",
       "    .dataframe tbody tr th:only-of-type {\n",
       "        vertical-align: middle;\n",
       "    }\n",
       "\n",
       "    .dataframe tbody tr th {\n",
       "        vertical-align: top;\n",
       "    }\n",
       "\n",
       "    .dataframe thead th {\n",
       "        text-align: right;\n",
       "    }\n",
       "</style>\n",
       "<table border=\"1\" class=\"dataframe\">\n",
       "  <thead>\n",
       "    <tr style=\"text-align: right;\">\n",
       "      <th></th>\n",
       "      <th>LungCap</th>\n",
       "      <th>Age</th>\n",
       "      <th>Height</th>\n",
       "      <th>Smoke</th>\n",
       "      <th>Gender</th>\n",
       "      <th>Caesarean</th>\n",
       "    </tr>\n",
       "  </thead>\n",
       "  <tbody>\n",
       "    <tr>\n",
       "      <th>0</th>\n",
       "      <td>6.475</td>\n",
       "      <td>6</td>\n",
       "      <td>62.1</td>\n",
       "      <td>1</td>\n",
       "      <td>1</td>\n",
       "      <td>1</td>\n",
       "    </tr>\n",
       "    <tr>\n",
       "      <th>1</th>\n",
       "      <td>10.125</td>\n",
       "      <td>18</td>\n",
       "      <td>74.7</td>\n",
       "      <td>1</td>\n",
       "      <td>1</td>\n",
       "      <td>1</td>\n",
       "    </tr>\n",
       "    <tr>\n",
       "      <th>2</th>\n",
       "      <td>9.550</td>\n",
       "      <td>16</td>\n",
       "      <td>69.7</td>\n",
       "      <td>1</td>\n",
       "      <td>1</td>\n",
       "      <td>1</td>\n",
       "    </tr>\n",
       "    <tr>\n",
       "      <th>3</th>\n",
       "      <td>11.125</td>\n",
       "      <td>14</td>\n",
       "      <td>71.0</td>\n",
       "      <td>1</td>\n",
       "      <td>1</td>\n",
       "      <td>1</td>\n",
       "    </tr>\n",
       "    <tr>\n",
       "      <th>4</th>\n",
       "      <td>4.800</td>\n",
       "      <td>5</td>\n",
       "      <td>56.9</td>\n",
       "      <td>1</td>\n",
       "      <td>1</td>\n",
       "      <td>1</td>\n",
       "    </tr>\n",
       "  </tbody>\n",
       "</table>\n",
       "</div>"
      ],
      "text/plain": [
       "   LungCap  Age  Height  Smoke  Gender  Caesarean\n",
       "0    6.475    6    62.1      1       1          1\n",
       "1   10.125   18    74.7      1       1          1\n",
       "2    9.550   16    69.7      1       1          1\n",
       "3   11.125   14    71.0      1       1          1\n",
       "4    4.800    5    56.9      1       1          1"
      ]
     },
     "execution_count": 6,
     "metadata": {},
     "output_type": "execute_result"
    }
   ],
   "source": [
    "lcn.head()"
   ]
  },
  {
   "cell_type": "code",
   "execution_count": 7,
   "id": "cb916016",
   "metadata": {},
   "outputs": [],
   "source": [
    "# Data Sampling\n",
    "\n",
    "from sklearn.model_selection import train_test_split\n",
    "lcn_train , lcn_test = train_test_split(lcn , test_size = .2)"
   ]
  },
  {
   "cell_type": "code",
   "execution_count": 8,
   "id": "83ceb19f",
   "metadata": {},
   "outputs": [],
   "source": [
    "lcn_train_x = lcn_train.iloc[: ,1:]\n",
    "lcn_train_y = lcn_train.iloc[ : , 0]"
   ]
  },
  {
   "cell_type": "code",
   "execution_count": 9,
   "id": "6e6a6d46",
   "metadata": {},
   "outputs": [],
   "source": [
    "lcn_test_x = lcn_test.iloc[: ,1:]\n",
    "lcn_test_y = lcn_test.iloc[ : , 0]"
   ]
  },
  {
   "cell_type": "code",
   "execution_count": 12,
   "id": "751b0c8c",
   "metadata": {},
   "outputs": [],
   "source": [
    "from sklearn.linear_model import LinearRegression\n",
    "linreg = LinearRegression()"
   ]
  },
  {
   "cell_type": "code",
   "execution_count": 13,
   "id": "f0e08304",
   "metadata": {},
   "outputs": [
    {
     "data": {
      "text/plain": [
       "LinearRegression()"
      ]
     },
     "execution_count": 13,
     "metadata": {},
     "output_type": "execute_result"
    }
   ],
   "source": [
    "linreg.fit(lcn_train_x , lcn_train_y )   #model has been created"
   ]
  },
  {
   "cell_type": "code",
   "execution_count": 14,
   "id": "b617af2d",
   "metadata": {},
   "outputs": [],
   "source": [
    "# model has been build on above line now lets try to interpret and judge performance of it"
   ]
  },
  {
   "cell_type": "code",
   "execution_count": 15,
   "id": "be5ea243",
   "metadata": {},
   "outputs": [
    {
     "data": {
      "text/plain": [
       "0.8470180921155734"
      ]
     },
     "execution_count": 15,
     "metadata": {},
     "output_type": "execute_result"
    }
   ],
   "source": [
    "Rsquare = linreg.score(lcn_train_x , lcn_train_y)   #Rsquare \n",
    "Rsquare"
   ]
  },
  {
   "cell_type": "code",
   "execution_count": 16,
   "id": "a6370c2b",
   "metadata": {},
   "outputs": [
    {
     "data": {
      "text/plain": [
       "(580, 5)"
      ]
     },
     "execution_count": 16,
     "metadata": {},
     "output_type": "execute_result"
    }
   ],
   "source": [
    "lcn_train_x.shape  # to find n = 580 , k= 5"
   ]
  },
  {
   "cell_type": "code",
   "execution_count": 17,
   "id": "5a4e04ed",
   "metadata": {},
   "outputs": [
    {
     "data": {
      "text/plain": [
       "580"
      ]
     },
     "execution_count": 17,
     "metadata": {},
     "output_type": "execute_result"
    }
   ],
   "source": [
    "lcn_train_x.shape[0]"
   ]
  },
  {
   "cell_type": "code",
   "execution_count": 18,
   "id": "b7333f5f",
   "metadata": {},
   "outputs": [
    {
     "data": {
      "text/plain": [
       "5"
      ]
     },
     "execution_count": 18,
     "metadata": {},
     "output_type": "execute_result"
    }
   ],
   "source": [
    "lcn_train_x.shape[1]"
   ]
  },
  {
   "cell_type": "code",
   "execution_count": 19,
   "id": "e77f5d8e",
   "metadata": {},
   "outputs": [
    {
     "data": {
      "text/plain": [
       "0.8456854970991585"
      ]
     },
     "execution_count": 19,
     "metadata": {},
     "output_type": "execute_result"
    }
   ],
   "source": [
    "#Adjusted Rsquare \n",
    "N = lcn_train_x.shape[0]\n",
    "K = lcn_train_x.shape[1]\n",
    "\n",
    "AdjRsquare =  1 - (( 1 - Rsquare ) * (N - 1) / ( N - K -1))\n",
    "AdjRsquare"
   ]
  },
  {
   "cell_type": "code",
   "execution_count": 20,
   "id": "ca899a52",
   "metadata": {},
   "outputs": [
    {
     "data": {
      "text/html": [
       "<div>\n",
       "<style scoped>\n",
       "    .dataframe tbody tr th:only-of-type {\n",
       "        vertical-align: middle;\n",
       "    }\n",
       "\n",
       "    .dataframe tbody tr th {\n",
       "        vertical-align: top;\n",
       "    }\n",
       "\n",
       "    .dataframe thead th {\n",
       "        text-align: right;\n",
       "    }\n",
       "</style>\n",
       "<table border=\"1\" class=\"dataframe\">\n",
       "  <thead>\n",
       "    <tr style=\"text-align: right;\">\n",
       "      <th></th>\n",
       "      <th>Age</th>\n",
       "      <th>Height</th>\n",
       "      <th>Smoke</th>\n",
       "      <th>Gender</th>\n",
       "      <th>Caesarean</th>\n",
       "    </tr>\n",
       "  </thead>\n",
       "  <tbody>\n",
       "    <tr>\n",
       "      <th>616</th>\n",
       "      <td>15</td>\n",
       "      <td>76.6</td>\n",
       "      <td>1</td>\n",
       "      <td>1</td>\n",
       "      <td>1</td>\n",
       "    </tr>\n",
       "  </tbody>\n",
       "</table>\n",
       "</div>"
      ],
      "text/plain": [
       "     Age  Height  Smoke  Gender  Caesarean\n",
       "616   15    76.6      1       1          1"
      ]
     },
     "execution_count": 20,
     "metadata": {},
     "output_type": "execute_result"
    }
   ],
   "source": [
    "lcn_train_x.head(1)"
   ]
  },
  {
   "cell_type": "code",
   "execution_count": 21,
   "id": "bf1a11d7",
   "metadata": {},
   "outputs": [
    {
     "data": {
      "text/plain": [
       "array([0.14240659, 0.27392755, 0.        , 0.        , 0.        ])"
      ]
     },
     "execution_count": 21,
     "metadata": {},
     "output_type": "execute_result"
    }
   ],
   "source": [
    "linreg.coef_    # Beta values"
   ]
  },
  {
   "cell_type": "code",
   "execution_count": 22,
   "id": "cc282bcc",
   "metadata": {},
   "outputs": [
    {
     "data": {
      "text/plain": [
       "-11.638534012511364"
      ]
     },
     "execution_count": 22,
     "metadata": {},
     "output_type": "execute_result"
    }
   ],
   "source": [
    "linreg.intercept_  # intercept value i.e B0 where {y=B0 +B1x1}"
   ]
  },
  {
   "cell_type": "code",
   "execution_count": 23,
   "id": "89ec6f40",
   "metadata": {},
   "outputs": [],
   "source": [
    "# lets do the prediction\n",
    "\n",
    "pred_train = linreg.predict(lcn_train_x)\n",
    "pred_test = linreg.predict(lcn_test_x)"
   ]
  },
  {
   "cell_type": "code",
   "execution_count": 24,
   "id": "638f7fdd",
   "metadata": {},
   "outputs": [
    {
     "data": {
      "text/plain": [
       "(580,)"
      ]
     },
     "execution_count": 24,
     "metadata": {},
     "output_type": "execute_result"
    }
   ],
   "source": [
    "pred_train.shape"
   ]
  },
  {
   "cell_type": "code",
   "execution_count": 25,
   "id": "df1dcdce",
   "metadata": {},
   "outputs": [
    {
     "data": {
      "text/plain": [
       "(145,)"
      ]
     },
     "execution_count": 25,
     "metadata": {},
     "output_type": "execute_result"
    }
   ],
   "source": [
    "pred_test.shape"
   ]
  },
  {
   "cell_type": "code",
   "execution_count": 26,
   "id": "e5bd48cf",
   "metadata": {},
   "outputs": [],
   "source": [
    "# error \n",
    "\n",
    "error_train = lcn_train_y - pred_train\n",
    "error_test = lcn_test_y = pred_test"
   ]
  },
  {
   "cell_type": "code",
   "execution_count": 27,
   "id": "5e38ffca",
   "metadata": {},
   "outputs": [],
   "source": [
    "#lets check the assumptions on the train data"
   ]
  },
  {
   "cell_type": "code",
   "execution_count": 28,
   "id": "9f17aa02",
   "metadata": {},
   "outputs": [
    {
     "data": {
      "text/plain": [
       "2.465460785719313e-16"
      ]
     },
     "execution_count": 28,
     "metadata": {},
     "output_type": "execute_result"
    }
   ],
   "source": [
    "np.mean(error_train)"
   ]
  },
  {
   "cell_type": "code",
   "execution_count": 29,
   "id": "1483eb4a",
   "metadata": {},
   "outputs": [
    {
     "data": {
      "text/plain": [
       "(array([ 1.,  0.,  1.,  4.,  8.,  2.,  5., 11., 13., 24., 28., 27., 40.,\n",
       "        53., 42., 46., 45., 35., 46., 39., 27., 18., 25., 17.,  6.,  9.,\n",
       "         4.,  1.,  1.,  2.]),\n",
       " array([-3.43000595, -3.21207101, -2.99413607, -2.77620114, -2.5582662 ,\n",
       "        -2.34033126, -2.12239632, -1.90446139, -1.68652645, -1.46859151,\n",
       "        -1.25065657, -1.03272164, -0.8147867 , -0.59685176, -0.37891682,\n",
       "        -0.16098189,  0.05695305,  0.27488799,  0.49282292,  0.71075786,\n",
       "         0.9286928 ,  1.14662774,  1.36456267,  1.58249761,  1.80043255,\n",
       "         2.01836749,  2.23630242,  2.45423736,  2.6721723 ,  2.89010724,\n",
       "         3.10804217]),\n",
       " <BarContainer object of 30 artists>)"
      ]
     },
     "execution_count": 29,
     "metadata": {},
     "output_type": "execute_result"
    },
    {
     "data": {
      "image/png": "[encoded data removed]",
      "text/plain": [
       "<Figure size 432x288 with 1 Axes>"
      ]
     },
     "metadata": {
      "needs_background": "light"
     },
     "output_type": "display_data"
    }
   ],
   "source": [
    "plt.hist(error_train , bins =30 , edgecolor =\"r\")"
   ]
  },
  {
   "cell_type": "code",
   "execution_count": 30,
   "id": "3dac0c6f",
   "metadata": {},
   "outputs": [
    {
     "data": {
      "text/html": [
       "<div>\n",
       "<style scoped>\n",
       "    .dataframe tbody tr th:only-of-type {\n",
       "        vertical-align: middle;\n",
       "    }\n",
       "\n",
       "    .dataframe tbody tr th {\n",
       "        vertical-align: top;\n",
       "    }\n",
       "\n",
       "    .dataframe thead th {\n",
       "        text-align: right;\n",
       "    }\n",
       "</style>\n",
       "<table border=\"1\" class=\"dataframe\">\n",
       "  <thead>\n",
       "    <tr style=\"text-align: right;\">\n",
       "      <th></th>\n",
       "      <th>Actual</th>\n",
       "      <th>Predicted</th>\n",
       "    </tr>\n",
       "  </thead>\n",
       "  <tbody>\n",
       "    <tr>\n",
       "      <th>616</th>\n",
       "      <td>10.675</td>\n",
       "      <td>11.480415</td>\n",
       "    </tr>\n",
       "    <tr>\n",
       "      <th>241</th>\n",
       "      <td>9.950</td>\n",
       "      <td>9.968371</td>\n",
       "    </tr>\n",
       "    <tr>\n",
       "      <th>665</th>\n",
       "      <td>7.825</td>\n",
       "      <td>7.426466</td>\n",
       "    </tr>\n",
       "    <tr>\n",
       "      <th>133</th>\n",
       "      <td>8.600</td>\n",
       "      <td>6.533391</td>\n",
       "    </tr>\n",
       "    <tr>\n",
       "      <th>689</th>\n",
       "      <td>4.700</td>\n",
       "      <td>4.588684</td>\n",
       "    </tr>\n",
       "  </tbody>\n",
       "</table>\n",
       "</div>"
      ],
      "text/plain": [
       "     Actual  Predicted\n",
       "616  10.675  11.480415\n",
       "241   9.950   9.968371\n",
       "665   7.825   7.426466\n",
       "133   8.600   6.533391\n",
       "689   4.700   4.588684"
      ]
     },
     "execution_count": 30,
     "metadata": {},
     "output_type": "execute_result"
    }
   ],
   "source": [
    "pred_actual = pd.DataFrame({\"Actual\":lcn_train_y , \"Predicted\" :pred_train})\n",
    "pred_actual.head()"
   ]
  },
  {
   "cell_type": "code",
   "execution_count": 31,
   "id": "d68a2831",
   "metadata": {},
   "outputs": [
    {
     "name": "stderr",
     "output_type": "stream",
     "text": [
      "C:\\ProgramData\\Anaconda3\\lib\\site-packages\\seaborn\\_decorators.py:36: FutureWarning: Pass the following variables as keyword args: x, y. From version 0.12, the only valid positional argument will be `data`, and passing other arguments without an explicit keyword will result in an error or misinterpretation.\n",
      "  warnings.warn(\n"
     ]
    },
    {
     "data": {
      "text/plain": [
       "<AxesSubplot:xlabel='Actual', ylabel='Predicted'>"
      ]
     },
     "execution_count": 31,
     "metadata": {},
     "output_type": "execute_result"
    },
    {
     "data": {
      "image/png": "[encoded data removed]",
      "text/plain": [
       "<Figure size 432x288 with 1 Axes>"
      ]
     },
     "metadata": {
      "needs_background": "light"
     },
     "output_type": "display_data"
    }
   ],
   "source": [
    "sn.regplot('Actual' ,'Predicted', data = pred_actual )"
   ]
  },
  {
   "cell_type": "code",
   "execution_count": 32,
   "id": "55a55c90",
   "metadata": {},
   "outputs": [
    {
     "data": {
      "text/plain": [
       "100.0"
      ]
     },
     "execution_count": 32,
     "metadata": {},
     "output_type": "execute_result"
    }
   ],
   "source": [
    "# MAPE on test data\n",
    "mape_test = np.mean(np.abs(error_test / lcn_test_y) *100)\n",
    "mape_test"
   ]
  },
  {
   "cell_type": "code",
   "execution_count": 33,
   "id": "bdfe219f",
   "metadata": {},
   "outputs": [
    {
     "data": {
      "text/plain": [
       "0.0"
      ]
     },
     "execution_count": 33,
     "metadata": {},
     "output_type": "execute_result"
    }
   ],
   "source": [
    "Acc = 100 - mape_test\n",
    "Acc"
   ]
  },
  {
   "cell_type": "code",
   "execution_count": 34,
   "id": "af324000",
   "metadata": {},
   "outputs": [],
   "source": [
    "#PS : Property price train where Price is a Target variable i.e B0\n",
    "\n"
   ]
  },
  {
   "cell_type": "code",
   "execution_count": 35,
   "id": "b2eec3c7",
   "metadata": {},
   "outputs": [],
   "source": [
    "prop = pd.read_csv(r\"D:\\Datasets\\Property_Price_Train.csv\")"
   ]
  },
  {
   "cell_type": "code",
   "execution_count": 36,
   "id": "937ed543",
   "metadata": {},
   "outputs": [
    {
     "data": {
      "text/html": [
       "<div>\n",
       "<style scoped>\n",
       "    .dataframe tbody tr th:only-of-type {\n",
       "        vertical-align: middle;\n",
       "    }\n",
       "\n",
       "    .dataframe tbody tr th {\n",
       "        vertical-align: top;\n",
       "    }\n",
       "\n",
       "    .dataframe thead th {\n",
       "        text-align: right;\n",
       "    }\n",
       "</style>\n",
       "<table border=\"1\" class=\"dataframe\">\n",
       "  <thead>\n",
       "    <tr style=\"text-align: right;\">\n",
       "      <th></th>\n",
       "      <th>Id</th>\n",
       "      <th>Building_Class</th>\n",
       "      <th>Zoning_Class</th>\n",
       "      <th>Lot_Extent</th>\n",
       "      <th>Lot_Size</th>\n",
       "      <th>Road_Type</th>\n",
       "      <th>Lane_Type</th>\n",
       "      <th>Property_Shape</th>\n",
       "      <th>Land_Outline</th>\n",
       "      <th>Utility_Type</th>\n",
       "      <th>...</th>\n",
       "      <th>Pool_Area</th>\n",
       "      <th>Pool_Quality</th>\n",
       "      <th>Fence_Quality</th>\n",
       "      <th>Miscellaneous_Feature</th>\n",
       "      <th>Miscellaneous_Value</th>\n",
       "      <th>Month_Sold</th>\n",
       "      <th>Year_Sold</th>\n",
       "      <th>Sale_Type</th>\n",
       "      <th>Sale_Condition</th>\n",
       "      <th>Sale_Price</th>\n",
       "    </tr>\n",
       "  </thead>\n",
       "  <tbody>\n",
       "    <tr>\n",
       "      <th>0</th>\n",
       "      <td>1</td>\n",
       "      <td>60</td>\n",
       "      <td>RLD</td>\n",
       "      <td>65.0</td>\n",
       "      <td>8450</td>\n",
       "      <td>Paved</td>\n",
       "      <td>NaN</td>\n",
       "      <td>Reg</td>\n",
       "      <td>Lvl</td>\n",
       "      <td>AllPub</td>\n",
       "      <td>...</td>\n",
       "      <td>0</td>\n",
       "      <td>NaN</td>\n",
       "      <td>NaN</td>\n",
       "      <td>NaN</td>\n",
       "      <td>0</td>\n",
       "      <td>2</td>\n",
       "      <td>2008</td>\n",
       "      <td>WD</td>\n",
       "      <td>Normal</td>\n",
       "      <td>208500</td>\n",
       "    </tr>\n",
       "    <tr>\n",
       "      <th>1</th>\n",
       "      <td>2</td>\n",
       "      <td>20</td>\n",
       "      <td>RLD</td>\n",
       "      <td>80.0</td>\n",
       "      <td>9600</td>\n",
       "      <td>Paved</td>\n",
       "      <td>NaN</td>\n",
       "      <td>Reg</td>\n",
       "      <td>Lvl</td>\n",
       "      <td>AllPub</td>\n",
       "      <td>...</td>\n",
       "      <td>0</td>\n",
       "      <td>NaN</td>\n",
       "      <td>NaN</td>\n",
       "      <td>NaN</td>\n",
       "      <td>0</td>\n",
       "      <td>5</td>\n",
       "      <td>2007</td>\n",
       "      <td>WD</td>\n",
       "      <td>Normal</td>\n",
       "      <td>181500</td>\n",
       "    </tr>\n",
       "    <tr>\n",
       "      <th>2</th>\n",
       "      <td>3</td>\n",
       "      <td>60</td>\n",
       "      <td>RLD</td>\n",
       "      <td>68.0</td>\n",
       "      <td>11250</td>\n",
       "      <td>Paved</td>\n",
       "      <td>NaN</td>\n",
       "      <td>IR1</td>\n",
       "      <td>Lvl</td>\n",
       "      <td>AllPub</td>\n",
       "      <td>...</td>\n",
       "      <td>0</td>\n",
       "      <td>NaN</td>\n",
       "      <td>NaN</td>\n",
       "      <td>NaN</td>\n",
       "      <td>0</td>\n",
       "      <td>9</td>\n",
       "      <td>2008</td>\n",
       "      <td>WD</td>\n",
       "      <td>Normal</td>\n",
       "      <td>223500</td>\n",
       "    </tr>\n",
       "    <tr>\n",
       "      <th>3</th>\n",
       "      <td>4</td>\n",
       "      <td>70</td>\n",
       "      <td>RLD</td>\n",
       "      <td>60.0</td>\n",
       "      <td>9550</td>\n",
       "      <td>Paved</td>\n",
       "      <td>NaN</td>\n",
       "      <td>IR1</td>\n",
       "      <td>Lvl</td>\n",
       "      <td>AllPub</td>\n",
       "      <td>...</td>\n",
       "      <td>0</td>\n",
       "      <td>NaN</td>\n",
       "      <td>NaN</td>\n",
       "      <td>NaN</td>\n",
       "      <td>0</td>\n",
       "      <td>2</td>\n",
       "      <td>2006</td>\n",
       "      <td>WD</td>\n",
       "      <td>Abnorml</td>\n",
       "      <td>140000</td>\n",
       "    </tr>\n",
       "    <tr>\n",
       "      <th>4</th>\n",
       "      <td>5</td>\n",
       "      <td>60</td>\n",
       "      <td>RLD</td>\n",
       "      <td>84.0</td>\n",
       "      <td>14260</td>\n",
       "      <td>Paved</td>\n",
       "      <td>NaN</td>\n",
       "      <td>IR1</td>\n",
       "      <td>Lvl</td>\n",
       "      <td>AllPub</td>\n",
       "      <td>...</td>\n",
       "      <td>0</td>\n",
       "      <td>NaN</td>\n",
       "      <td>NaN</td>\n",
       "      <td>NaN</td>\n",
       "      <td>0</td>\n",
       "      <td>12</td>\n",
       "      <td>2008</td>\n",
       "      <td>WD</td>\n",
       "      <td>Normal</td>\n",
       "      <td>250000</td>\n",
       "    </tr>\n",
       "  </tbody>\n",
       "</table>\n",
       "<p>5 rows × 81 columns</p>\n",
       "</div>"
      ],
      "text/plain": [
       "   Id  Building_Class Zoning_Class  Lot_Extent  Lot_Size Road_Type Lane_Type  \\\n",
       "0   1              60          RLD        65.0      8450     Paved       NaN   \n",
       "1   2              20          RLD        80.0      9600     Paved       NaN   \n",
       "2   3              60          RLD        68.0     11250     Paved       NaN   \n",
       "3   4              70          RLD        60.0      9550     Paved       NaN   \n",
       "4   5              60          RLD        84.0     14260     Paved       NaN   \n",
       "\n",
       "  Property_Shape Land_Outline Utility_Type  ... Pool_Area Pool_Quality  \\\n",
       "0            Reg          Lvl       AllPub  ...         0          NaN   \n",
       "1            Reg          Lvl       AllPub  ...         0          NaN   \n",
       "2            IR1          Lvl       AllPub  ...         0          NaN   \n",
       "3            IR1          Lvl       AllPub  ...         0          NaN   \n",
       "4            IR1          Lvl       AllPub  ...         0          NaN   \n",
       "\n",
       "  Fence_Quality Miscellaneous_Feature Miscellaneous_Value Month_Sold  \\\n",
       "0           NaN                   NaN                   0          2   \n",
       "1           NaN                   NaN                   0          5   \n",
       "2           NaN                   NaN                   0          9   \n",
       "3           NaN                   NaN                   0          2   \n",
       "4           NaN                   NaN                   0         12   \n",
       "\n",
       "  Year_Sold  Sale_Type  Sale_Condition  Sale_Price  \n",
       "0      2008         WD          Normal      208500  \n",
       "1      2007         WD          Normal      181500  \n",
       "2      2008         WD          Normal      223500  \n",
       "3      2006         WD         Abnorml      140000  \n",
       "4      2008         WD          Normal      250000  \n",
       "\n",
       "[5 rows x 81 columns]"
      ]
     },
     "execution_count": 36,
     "metadata": {},
     "output_type": "execute_result"
    }
   ],
   "source": [
    "prop.head()"
   ]
  },
  {
   "cell_type": "code",
   "execution_count": 37,
   "id": "8d3f8d05",
   "metadata": {},
   "outputs": [],
   "source": [
    "pd.options.display.max_rows = None"
   ]
  },
  {
   "cell_type": "code",
   "execution_count": 38,
   "id": "6b525f4f",
   "metadata": {},
   "outputs": [
    {
     "data": {
      "text/plain": [
       "Id                              0\n",
       "Building_Class                  0\n",
       "Zoning_Class                    0\n",
       "Lot_Extent                    259\n",
       "Lot_Size                        0\n",
       "Road_Type                       0\n",
       "Lane_Type                    1368\n",
       "Property_Shape                  0\n",
       "Land_Outline                    0\n",
       "Utility_Type                    0\n",
       "Lot_Configuration               0\n",
       "Property_Slope                  0\n",
       "Neighborhood                    0\n",
       "Condition1                      0\n",
       "Condition2                      0\n",
       "House_Type                      0\n",
       "House_Design                    0\n",
       "Overall_Material                0\n",
       "House_Condition                 0\n",
       "Construction_Year               0\n",
       "Remodel_Year                    0\n",
       "Roof_Design                     0\n",
       "Roof_Quality                    0\n",
       "Exterior1st                     0\n",
       "Exterior2nd                     0\n",
       "Brick_Veneer_Type               8\n",
       "Brick_Veneer_Area               8\n",
       "Exterior_Material               0\n",
       "Exterior_Condition              0\n",
       "Foundation_Type                 0\n",
       "Basement_Height                37\n",
       "Basement_Condition             37\n",
       "Exposure_Level                 38\n",
       "BsmtFinType1                   37\n",
       "BsmtFinSF1                      0\n",
       "BsmtFinType2                   38\n",
       "BsmtFinSF2                      0\n",
       "BsmtUnfSF                       0\n",
       "Total_Basement_Area             0\n",
       "Heating_Type                    0\n",
       "Heating_Quality                 0\n",
       "Air_Conditioning                0\n",
       "Electrical_System               1\n",
       "First_Floor_Area                0\n",
       "Second_Floor_Area               0\n",
       "LowQualFinSF                    0\n",
       "Grade_Living_Area               0\n",
       "Underground_Full_Bathroom       0\n",
       "Underground_Half_Bathroom       0\n",
       "Full_Bathroom_Above_Grade       0\n",
       "Half_Bathroom_Above_Grade       0\n",
       "Bedroom_Above_Grade             0\n",
       "Kitchen_Above_Grade             0\n",
       "Kitchen_Quality                 0\n",
       "Rooms_Above_Grade               0\n",
       "Functional_Rate                 0\n",
       "Fireplaces                      0\n",
       "Fireplace_Quality             689\n",
       "Garage                         81\n",
       "Garage_Built_Year              81\n",
       "Garage_Finish_Year             81\n",
       "Garage_Size                     0\n",
       "Garage_Area                     0\n",
       "Garage_Quality                 81\n",
       "Garage_Condition               81\n",
       "Pavedd_Drive                    0\n",
       "W_Deck_Area                     0\n",
       "Open_Lobby_Area                 0\n",
       "Enclosed_Lobby_Area             0\n",
       "Three_Season_Lobby_Area         0\n",
       "Screen_Lobby_Area               0\n",
       "Pool_Area                       0\n",
       "Pool_Quality                 1452\n",
       "Fence_Quality                1178\n",
       "Miscellaneous_Feature        1405\n",
       "Miscellaneous_Value             0\n",
       "Month_Sold                      0\n",
       "Year_Sold                       0\n",
       "Sale_Type                       0\n",
       "Sale_Condition                  0\n",
       "Sale_Price                      0\n",
       "dtype: int64"
      ]
     },
     "execution_count": 38,
     "metadata": {},
     "output_type": "execute_result"
    }
   ],
   "source": [
    "prop.isnull().sum()"
   ]
  },
  {
   "cell_type": "code",
   "execution_count": 39,
   "id": "7d3adc98",
   "metadata": {},
   "outputs": [
    {
     "data": {
      "text/plain": [
       "Id                            0.000000\n",
       "Building_Class                0.000000\n",
       "Zoning_Class                  0.000000\n",
       "Lot_Extent                   17.751885\n",
       "Lot_Size                      0.000000\n",
       "Road_Type                     0.000000\n",
       "Lane_Type                    93.762851\n",
       "Property_Shape                0.000000\n",
       "Land_Outline                  0.000000\n",
       "Utility_Type                  0.000000\n",
       "Lot_Configuration             0.000000\n",
       "Property_Slope                0.000000\n",
       "Neighborhood                  0.000000\n",
       "Condition1                    0.000000\n",
       "Condition2                    0.000000\n",
       "House_Type                    0.000000\n",
       "House_Design                  0.000000\n",
       "Overall_Material              0.000000\n",
       "House_Condition               0.000000\n",
       "Construction_Year             0.000000\n",
       "Remodel_Year                  0.000000\n",
       "Roof_Design                   0.000000\n",
       "Roof_Quality                  0.000000\n",
       "Exterior1st                   0.000000\n",
       "Exterior2nd                   0.000000\n",
       "Brick_Veneer_Type             0.548321\n",
       "Brick_Veneer_Area             0.548321\n",
       "Exterior_Material             0.000000\n",
       "Exterior_Condition            0.000000\n",
       "Foundation_Type               0.000000\n",
       "Basement_Height               2.535984\n",
       "Basement_Condition            2.535984\n",
       "Exposure_Level                2.604524\n",
       "BsmtFinType1                  2.535984\n",
       "BsmtFinSF1                    0.000000\n",
       "BsmtFinType2                  2.604524\n",
       "BsmtFinSF2                    0.000000\n",
       "BsmtUnfSF                     0.000000\n",
       "Total_Basement_Area           0.000000\n",
       "Heating_Type                  0.000000\n",
       "Heating_Quality               0.000000\n",
       "Air_Conditioning              0.000000\n",
       "Electrical_System             0.068540\n",
       "First_Floor_Area              0.000000\n",
       "Second_Floor_Area             0.000000\n",
       "LowQualFinSF                  0.000000\n",
       "Grade_Living_Area             0.000000\n",
       "Underground_Full_Bathroom     0.000000\n",
       "Underground_Half_Bathroom     0.000000\n",
       "Full_Bathroom_Above_Grade     0.000000\n",
       "Half_Bathroom_Above_Grade     0.000000\n",
       "Bedroom_Above_Grade           0.000000\n",
       "Kitchen_Above_Grade           0.000000\n",
       "Kitchen_Quality               0.000000\n",
       "Rooms_Above_Grade             0.000000\n",
       "Functional_Rate               0.000000\n",
       "Fireplaces                    0.000000\n",
       "Fireplace_Quality            47.224126\n",
       "Garage                        5.551748\n",
       "Garage_Built_Year             5.551748\n",
       "Garage_Finish_Year            5.551748\n",
       "Garage_Size                   0.000000\n",
       "Garage_Area                   0.000000\n",
       "Garage_Quality                5.551748\n",
       "Garage_Condition              5.551748\n",
       "Pavedd_Drive                  0.000000\n",
       "W_Deck_Area                   0.000000\n",
       "Open_Lobby_Area               0.000000\n",
       "Enclosed_Lobby_Area           0.000000\n",
       "Three_Season_Lobby_Area       0.000000\n",
       "Screen_Lobby_Area             0.000000\n",
       "Pool_Area                     0.000000\n",
       "Pool_Quality                 99.520219\n",
       "Fence_Quality                80.740233\n",
       "Miscellaneous_Feature        96.298835\n",
       "Miscellaneous_Value           0.000000\n",
       "Month_Sold                    0.000000\n",
       "Year_Sold                     0.000000\n",
       "Sale_Type                     0.000000\n",
       "Sale_Condition                0.000000\n",
       "Sale_Price                    0.000000\n",
       "dtype: float64"
      ]
     },
     "execution_count": 39,
     "metadata": {},
     "output_type": "execute_result"
    }
   ],
   "source": [
    "prop.isnull().sum() * 100 / prop.shape[0]"
   ]
  },
  {
   "cell_type": "code",
   "execution_count": 40,
   "id": "b75de60b",
   "metadata": {},
   "outputs": [
    {
     "data": {
      "text/plain": [
       "Index(['Lane_Type', 'Fireplace_Quality', 'Pool_Quality', 'Fence_Quality',\n",
       "       'Miscellaneous_Feature'],\n",
       "      dtype='object')"
      ]
     },
     "execution_count": 40,
     "metadata": {},
     "output_type": "execute_result"
    }
   ],
   "source": [
    "prop.columns[prop.isnull().sum() * 100 / prop.shape[0] > 40]  # nulls more than 40%, we drop this columns in the next step"
   ]
  },
  {
   "cell_type": "code",
   "execution_count": 41,
   "id": "a0c5a4da",
   "metadata": {},
   "outputs": [],
   "source": [
    "prop = prop.drop(['Lane_Type', 'Fireplace_Quality', 'Pool_Quality', 'Fence_Quality','Miscellaneous_Feature', 'Id'] , axis =1)"
   ]
  },
  {
   "cell_type": "code",
   "execution_count": 42,
   "id": "61f46000",
   "metadata": {},
   "outputs": [
    {
     "data": {
      "text/plain": [
       "(1459, 75)"
      ]
     },
     "execution_count": 42,
     "metadata": {},
     "output_type": "execute_result"
    }
   ],
   "source": [
    "prop.shape"
   ]
  },
  {
   "cell_type": "code",
   "execution_count": 43,
   "id": "6ad67b56",
   "metadata": {},
   "outputs": [
    {
     "data": {
      "text/plain": [
       "Index(['Lot_Extent', 'Brick_Veneer_Type', 'Brick_Veneer_Area',\n",
       "       'Basement_Height', 'Basement_Condition', 'Exposure_Level',\n",
       "       'BsmtFinType1', 'BsmtFinType2', 'Electrical_System', 'Garage',\n",
       "       'Garage_Built_Year', 'Garage_Finish_Year', 'Garage_Quality',\n",
       "       'Garage_Condition'],\n",
       "      dtype='object')"
      ]
     },
     "execution_count": 43,
     "metadata": {},
     "output_type": "execute_result"
    }
   ],
   "source": [
    "prop.columns[ prop.isnull().sum() > 0]"
   ]
  },
  {
   "cell_type": "code",
   "execution_count": 44,
   "id": "6d7a2373",
   "metadata": {},
   "outputs": [],
   "source": [
    "prop.Lot_Extent.fillna(prop.Lot_Extent.mean() , inplace = True)\n",
    "prop.Brick_Veneer_Type.fillna( 'None' , inplace = True)\n",
    "prop.Brick_Veneer_Area.fillna(prop.Brick_Veneer_Area.mean() , inplace = True )\n",
    "prop.Basement_Height.fillna( 'TA' , inplace = True)\n",
    "prop.Basement_Condition.fillna('TA' , inplace = True)\n",
    "prop.Exposure_Level.fillna('NO' , inplace = True)\n",
    "prop.BsmtFinType1.fillna('Unf' , inplace = True)\n",
    "prop.BsmtFinType2.fillna('Unf' , inplace = True)\n",
    "prop.Electrical_System.fillna('SBrkr' , inplace = True)\n",
    "prop.Garage.fillna('Attcd' , inplace = True)\n",
    "prop.Garage_Built_Year.fillna(prop.Garage_Built_Year.mean() , inplace = True)\n",
    "prop.Garage_Finish_Year.fillna('Unf' , inplace = True)\n",
    "prop.Garage_Quality.fillna('TA' , inplace = True)\n",
    "prop.Garage_Condition.fillna('TA' , inplace = True)"
   ]
  },
  {
   "cell_type": "code",
   "execution_count": 45,
   "id": "09ded79b",
   "metadata": {},
   "outputs": [
    {
     "data": {
      "text/plain": [
       "Index([], dtype='object')"
      ]
     },
     "execution_count": 45,
     "metadata": {},
     "output_type": "execute_result"
    }
   ],
   "source": [
    "prop.columns [prop.isnull().sum() > 0]"
   ]
  },
  {
   "cell_type": "code",
   "execution_count": 46,
   "id": "971c6232",
   "metadata": {},
   "outputs": [
    {
     "data": {
      "text/html": [
       "<div>\n",
       "<style scoped>\n",
       "    .dataframe tbody tr th:only-of-type {\n",
       "        vertical-align: middle;\n",
       "    }\n",
       "\n",
       "    .dataframe tbody tr th {\n",
       "        vertical-align: top;\n",
       "    }\n",
       "\n",
       "    .dataframe thead th {\n",
       "        text-align: right;\n",
       "    }\n",
       "</style>\n",
       "<table border=\"1\" class=\"dataframe\">\n",
       "  <thead>\n",
       "    <tr style=\"text-align: right;\">\n",
       "      <th></th>\n",
       "      <th>Building_Class</th>\n",
       "      <th>Zoning_Class</th>\n",
       "      <th>Lot_Extent</th>\n",
       "      <th>Lot_Size</th>\n",
       "      <th>Road_Type</th>\n",
       "      <th>Property_Shape</th>\n",
       "      <th>Land_Outline</th>\n",
       "      <th>Utility_Type</th>\n",
       "      <th>Lot_Configuration</th>\n",
       "      <th>Property_Slope</th>\n",
       "      <th>...</th>\n",
       "      <th>Enclosed_Lobby_Area</th>\n",
       "      <th>Three_Season_Lobby_Area</th>\n",
       "      <th>Screen_Lobby_Area</th>\n",
       "      <th>Pool_Area</th>\n",
       "      <th>Miscellaneous_Value</th>\n",
       "      <th>Month_Sold</th>\n",
       "      <th>Year_Sold</th>\n",
       "      <th>Sale_Type</th>\n",
       "      <th>Sale_Condition</th>\n",
       "      <th>Sale_Price</th>\n",
       "    </tr>\n",
       "  </thead>\n",
       "  <tbody>\n",
       "    <tr>\n",
       "      <th>0</th>\n",
       "      <td>60</td>\n",
       "      <td>RLD</td>\n",
       "      <td>65.0</td>\n",
       "      <td>8450</td>\n",
       "      <td>Paved</td>\n",
       "      <td>Reg</td>\n",
       "      <td>Lvl</td>\n",
       "      <td>AllPub</td>\n",
       "      <td>I</td>\n",
       "      <td>GS</td>\n",
       "      <td>...</td>\n",
       "      <td>20.337934</td>\n",
       "      <td>0</td>\n",
       "      <td>0</td>\n",
       "      <td>0</td>\n",
       "      <td>0</td>\n",
       "      <td>2</td>\n",
       "      <td>2008</td>\n",
       "      <td>WD</td>\n",
       "      <td>Normal</td>\n",
       "      <td>208500</td>\n",
       "    </tr>\n",
       "    <tr>\n",
       "      <th>1</th>\n",
       "      <td>20</td>\n",
       "      <td>RLD</td>\n",
       "      <td>80.0</td>\n",
       "      <td>9600</td>\n",
       "      <td>Paved</td>\n",
       "      <td>Reg</td>\n",
       "      <td>Lvl</td>\n",
       "      <td>AllPub</td>\n",
       "      <td>FR2P</td>\n",
       "      <td>GS</td>\n",
       "      <td>...</td>\n",
       "      <td>15.039392</td>\n",
       "      <td>0</td>\n",
       "      <td>0</td>\n",
       "      <td>0</td>\n",
       "      <td>0</td>\n",
       "      <td>5</td>\n",
       "      <td>2007</td>\n",
       "      <td>WD</td>\n",
       "      <td>Normal</td>\n",
       "      <td>181500</td>\n",
       "    </tr>\n",
       "    <tr>\n",
       "      <th>2</th>\n",
       "      <td>60</td>\n",
       "      <td>RLD</td>\n",
       "      <td>68.0</td>\n",
       "      <td>11250</td>\n",
       "      <td>Paved</td>\n",
       "      <td>IR1</td>\n",
       "      <td>Lvl</td>\n",
       "      <td>AllPub</td>\n",
       "      <td>I</td>\n",
       "      <td>GS</td>\n",
       "      <td>...</td>\n",
       "      <td>-46.232198</td>\n",
       "      <td>0</td>\n",
       "      <td>0</td>\n",
       "      <td>0</td>\n",
       "      <td>0</td>\n",
       "      <td>9</td>\n",
       "      <td>2008</td>\n",
       "      <td>WD</td>\n",
       "      <td>Normal</td>\n",
       "      <td>223500</td>\n",
       "    </tr>\n",
       "    <tr>\n",
       "      <th>3</th>\n",
       "      <td>70</td>\n",
       "      <td>RLD</td>\n",
       "      <td>60.0</td>\n",
       "      <td>9550</td>\n",
       "      <td>Paved</td>\n",
       "      <td>IR1</td>\n",
       "      <td>Lvl</td>\n",
       "      <td>AllPub</td>\n",
       "      <td>C</td>\n",
       "      <td>GS</td>\n",
       "      <td>...</td>\n",
       "      <td>60.921821</td>\n",
       "      <td>0</td>\n",
       "      <td>0</td>\n",
       "      <td>0</td>\n",
       "      <td>0</td>\n",
       "      <td>2</td>\n",
       "      <td>2006</td>\n",
       "      <td>WD</td>\n",
       "      <td>Abnorml</td>\n",
       "      <td>140000</td>\n",
       "    </tr>\n",
       "    <tr>\n",
       "      <th>4</th>\n",
       "      <td>60</td>\n",
       "      <td>RLD</td>\n",
       "      <td>84.0</td>\n",
       "      <td>14260</td>\n",
       "      <td>Paved</td>\n",
       "      <td>IR1</td>\n",
       "      <td>Lvl</td>\n",
       "      <td>AllPub</td>\n",
       "      <td>FR2P</td>\n",
       "      <td>GS</td>\n",
       "      <td>...</td>\n",
       "      <td>21.788818</td>\n",
       "      <td>0</td>\n",
       "      <td>0</td>\n",
       "      <td>0</td>\n",
       "      <td>0</td>\n",
       "      <td>12</td>\n",
       "      <td>2008</td>\n",
       "      <td>WD</td>\n",
       "      <td>Normal</td>\n",
       "      <td>250000</td>\n",
       "    </tr>\n",
       "  </tbody>\n",
       "</table>\n",
       "<p>5 rows × 75 columns</p>\n",
       "</div>"
      ],
      "text/plain": [
       "   Building_Class Zoning_Class  Lot_Extent  Lot_Size Road_Type Property_Shape  \\\n",
       "0              60          RLD        65.0      8450     Paved            Reg   \n",
       "1              20          RLD        80.0      9600     Paved            Reg   \n",
       "2              60          RLD        68.0     11250     Paved            IR1   \n",
       "3              70          RLD        60.0      9550     Paved            IR1   \n",
       "4              60          RLD        84.0     14260     Paved            IR1   \n",
       "\n",
       "  Land_Outline Utility_Type Lot_Configuration Property_Slope  ...  \\\n",
       "0          Lvl       AllPub                 I             GS  ...   \n",
       "1          Lvl       AllPub              FR2P             GS  ...   \n",
       "2          Lvl       AllPub                 I             GS  ...   \n",
       "3          Lvl       AllPub                 C             GS  ...   \n",
       "4          Lvl       AllPub              FR2P             GS  ...   \n",
       "\n",
       "  Enclosed_Lobby_Area Three_Season_Lobby_Area Screen_Lobby_Area Pool_Area  \\\n",
       "0           20.337934                       0                 0         0   \n",
       "1           15.039392                       0                 0         0   \n",
       "2          -46.232198                       0                 0         0   \n",
       "3           60.921821                       0                 0         0   \n",
       "4           21.788818                       0                 0         0   \n",
       "\n",
       "  Miscellaneous_Value  Month_Sold  Year_Sold  Sale_Type  Sale_Condition  \\\n",
       "0                   0           2       2008         WD          Normal   \n",
       "1                   0           5       2007         WD          Normal   \n",
       "2                   0           9       2008         WD          Normal   \n",
       "3                   0           2       2006         WD         Abnorml   \n",
       "4                   0          12       2008         WD          Normal   \n",
       "\n",
       "  Sale_Price  \n",
       "0     208500  \n",
       "1     181500  \n",
       "2     223500  \n",
       "3     140000  \n",
       "4     250000  \n",
       "\n",
       "[5 rows x 75 columns]"
      ]
     },
     "execution_count": 46,
     "metadata": {},
     "output_type": "execute_result"
    }
   ],
   "source": [
    "prop.head()"
   ]
  },
  {
   "cell_type": "code",
   "execution_count": 47,
   "id": "d1acf4b2",
   "metadata": {},
   "outputs": [
    {
     "name": "stdout",
     "output_type": "stream",
     "text": [
      "<class 'pandas.core.frame.DataFrame'>\n",
      "RangeIndex: 1459 entries, 0 to 1458\n",
      "Data columns (total 75 columns):\n",
      " #   Column                     Non-Null Count  Dtype  \n",
      "---  ------                     --------------  -----  \n",
      " 0   Building_Class             1459 non-null   int64  \n",
      " 1   Zoning_Class               1459 non-null   object \n",
      " 2   Lot_Extent                 1459 non-null   float64\n",
      " 3   Lot_Size                   1459 non-null   int64  \n",
      " 4   Road_Type                  1459 non-null   object \n",
      " 5   Property_Shape             1459 non-null   object \n",
      " 6   Land_Outline               1459 non-null   object \n",
      " 7   Utility_Type               1459 non-null   object \n",
      " 8   Lot_Configuration          1459 non-null   object \n",
      " 9   Property_Slope             1459 non-null   object \n",
      " 10  Neighborhood               1459 non-null   object \n",
      " 11  Condition1                 1459 non-null   object \n",
      " 12  Condition2                 1459 non-null   object \n",
      " 13  House_Type                 1459 non-null   object \n",
      " 14  House_Design               1459 non-null   object \n",
      " 15  Overall_Material           1459 non-null   int64  \n",
      " 16  House_Condition            1459 non-null   int64  \n",
      " 17  Construction_Year          1459 non-null   int64  \n",
      " 18  Remodel_Year               1459 non-null   int64  \n",
      " 19  Roof_Design                1459 non-null   object \n",
      " 20  Roof_Quality               1459 non-null   object \n",
      " 21  Exterior1st                1459 non-null   object \n",
      " 22  Exterior2nd                1459 non-null   object \n",
      " 23  Brick_Veneer_Type          1459 non-null   object \n",
      " 24  Brick_Veneer_Area          1459 non-null   float64\n",
      " 25  Exterior_Material          1459 non-null   object \n",
      " 26  Exterior_Condition         1459 non-null   object \n",
      " 27  Foundation_Type            1459 non-null   object \n",
      " 28  Basement_Height            1459 non-null   object \n",
      " 29  Basement_Condition         1459 non-null   object \n",
      " 30  Exposure_Level             1459 non-null   object \n",
      " 31  BsmtFinType1               1459 non-null   object \n",
      " 32  BsmtFinSF1                 1459 non-null   int64  \n",
      " 33  BsmtFinType2               1459 non-null   object \n",
      " 34  BsmtFinSF2                 1459 non-null   int64  \n",
      " 35  BsmtUnfSF                  1459 non-null   int64  \n",
      " 36  Total_Basement_Area        1459 non-null   int64  \n",
      " 37  Heating_Type               1459 non-null   object \n",
      " 38  Heating_Quality            1459 non-null   object \n",
      " 39  Air_Conditioning           1459 non-null   object \n",
      " 40  Electrical_System          1459 non-null   object \n",
      " 41  First_Floor_Area           1459 non-null   int64  \n",
      " 42  Second_Floor_Area          1459 non-null   int64  \n",
      " 43  LowQualFinSF               1459 non-null   int64  \n",
      " 44  Grade_Living_Area          1459 non-null   int64  \n",
      " 45  Underground_Full_Bathroom  1459 non-null   int64  \n",
      " 46  Underground_Half_Bathroom  1459 non-null   int64  \n",
      " 47  Full_Bathroom_Above_Grade  1459 non-null   int64  \n",
      " 48  Half_Bathroom_Above_Grade  1459 non-null   int64  \n",
      " 49  Bedroom_Above_Grade        1459 non-null   int64  \n",
      " 50  Kitchen_Above_Grade        1459 non-null   int64  \n",
      " 51  Kitchen_Quality            1459 non-null   object \n",
      " 52  Rooms_Above_Grade          1459 non-null   int64  \n",
      " 53  Functional_Rate            1459 non-null   object \n",
      " 54  Fireplaces                 1459 non-null   int64  \n",
      " 55  Garage                     1459 non-null   object \n",
      " 56  Garage_Built_Year          1459 non-null   float64\n",
      " 57  Garage_Finish_Year         1459 non-null   object \n",
      " 58  Garage_Size                1459 non-null   int64  \n",
      " 59  Garage_Area                1459 non-null   float64\n",
      " 60  Garage_Quality             1459 non-null   object \n",
      " 61  Garage_Condition           1459 non-null   object \n",
      " 62  Pavedd_Drive               1459 non-null   object \n",
      " 63  W_Deck_Area                1459 non-null   float64\n",
      " 64  Open_Lobby_Area            1459 non-null   float64\n",
      " 65  Enclosed_Lobby_Area        1459 non-null   float64\n",
      " 66  Three_Season_Lobby_Area    1459 non-null   int64  \n",
      " 67  Screen_Lobby_Area          1459 non-null   int64  \n",
      " 68  Pool_Area                  1459 non-null   int64  \n",
      " 69  Miscellaneous_Value        1459 non-null   int64  \n",
      " 70  Month_Sold                 1459 non-null   int64  \n",
      " 71  Year_Sold                  1459 non-null   int64  \n",
      " 72  Sale_Type                  1459 non-null   object \n",
      " 73  Sale_Condition             1459 non-null   object \n",
      " 74  Sale_Price                 1459 non-null   int64  \n",
      "dtypes: float64(7), int64(30), object(38)\n",
      "memory usage: 855.0+ KB\n"
     ]
    }
   ],
   "source": [
    "prop.info()"
   ]
  },
  {
   "cell_type": "code",
   "execution_count": 48,
   "id": "c5d31225",
   "metadata": {},
   "outputs": [],
   "source": [
    "from sklearn.preprocessing import LabelEncoder\n",
    "le = LabelEncoder()"
   ]
  },
  {
   "cell_type": "code",
   "execution_count": 49,
   "id": "c085bd23",
   "metadata": {},
   "outputs": [],
   "source": [
    "prop[prop.select_dtypes(include=['object']).columns ] = prop[prop.select_dtypes(include=['object']).columns ].apply(le.fit_transform)  "
   ]
  },
  {
   "cell_type": "code",
   "execution_count": 50,
   "id": "347a392a",
   "metadata": {},
   "outputs": [],
   "source": [
    "# all abject convert into Intergers(numeric values)\n",
    "\n"
   ]
  },
  {
   "cell_type": "code",
   "execution_count": 51,
   "id": "a0f1662e",
   "metadata": {},
   "outputs": [],
   "source": [
    "#sampling\n",
    "from sklearn.model_selection import train_test_split\n",
    "prop_train , prop_test = train_test_split(prop , test_size = .2)"
   ]
  },
  {
   "cell_type": "code",
   "execution_count": 52,
   "id": "c888ce9f",
   "metadata": {},
   "outputs": [],
   "source": [
    "prop_train_x = prop_train.iloc[ : , 0 : -1]\n",
    "prop_train_y = prop_train.iloc[ : , -1]"
   ]
  },
  {
   "cell_type": "code",
   "execution_count": 53,
   "id": "153dab11",
   "metadata": {},
   "outputs": [],
   "source": [
    "prop_test_x = prop_test.iloc[ : , 0 : -1]\n",
    "prop_test_y = prop_test.iloc[ : , -1]"
   ]
  },
  {
   "cell_type": "code",
   "execution_count": 54,
   "id": "b25a2c25",
   "metadata": {},
   "outputs": [],
   "source": [
    "from sklearn.linear_model import LinearRegression\n",
    "reg_prop = LinearRegression()"
   ]
  },
  {
   "cell_type": "code",
   "execution_count": 55,
   "id": "be8014fb",
   "metadata": {},
   "outputs": [
    {
     "data": {
      "text/plain": [
       "LinearRegression()"
      ]
     },
     "execution_count": 55,
     "metadata": {},
     "output_type": "execute_result"
    }
   ],
   "source": [
    "reg_prop.fit(prop_train_x , prop_train_y ) "
   ]
  },
  {
   "cell_type": "code",
   "execution_count": 56,
   "id": "c4d9f1a2",
   "metadata": {},
   "outputs": [
    {
     "data": {
      "text/plain": [
       "0.8570719121095368"
      ]
     },
     "execution_count": 56,
     "metadata": {},
     "output_type": "execute_result"
    }
   ],
   "source": [
    "Rsquare = reg_prop.score(prop_train_x , prop_train_y)\n",
    "Rsquare"
   ]
  },
  {
   "cell_type": "code",
   "execution_count": 57,
   "id": "45ac8123",
   "metadata": {},
   "outputs": [
    {
     "data": {
      "text/plain": [
       "0.8473863090839926"
      ]
     },
     "execution_count": 57,
     "metadata": {},
     "output_type": "execute_result"
    }
   ],
   "source": [
    "#Adjusted Rsquare \n",
    "N = prop_train_x.shape[0]\n",
    "K = prop_train_x.shape[1]\n",
    "\n",
    "AdjRsquare =  1 - (( 1 - Rsquare ) * (N - 1) / ( N - K -1))\n",
    "AdjRsquare"
   ]
  },
  {
   "cell_type": "code",
   "execution_count": 58,
   "id": "73815b17",
   "metadata": {},
   "outputs": [
    {
     "data": {
      "text/plain": [
       "1015798.593109186"
      ]
     },
     "execution_count": 58,
     "metadata": {},
     "output_type": "execute_result"
    }
   ],
   "source": [
    "reg_prop.intercept_"
   ]
  },
  {
   "cell_type": "code",
   "execution_count": 59,
   "id": "f64bca3a",
   "metadata": {},
   "outputs": [
    {
     "data": {
      "text/plain": [
       "array([-1.18844521e+02, -1.97651960e+03, -1.37499882e+02,  3.69948182e-01,\n",
       "        1.27254878e+04, -5.90241279e+02,  3.10161752e+03, -5.44850467e+04,\n",
       "       -2.00161484e+02,  5.52904201e+03,  4.61528122e+02, -1.27304091e+03,\n",
       "       -1.14826509e+04, -2.12865390e+03, -1.62549909e+03,  1.06066396e+04,\n",
       "        4.54411506e+03,  1.75093799e+02,  4.24195310e+01,  1.08791245e+03,\n",
       "        2.88583779e+04, -1.61714427e+03,  9.30507643e+02,  4.25987150e+03,\n",
       "        3.91473138e+01, -9.12537057e+03,  7.09151584e+02,  1.36654017e+03,\n",
       "       -9.08744270e+03,  2.56853783e+03, -3.25748882e+03, -1.02125009e+03,\n",
       "        4.33430998e+00,  1.47385264e+03,  3.82648054e+00, -1.31260481e+00,\n",
       "        6.84818576e+00, -3.08031924e+03, -1.14275375e+03, -2.29560606e+03,\n",
       "       -9.26299003e+02,  1.56711531e+01,  1.48420476e+01, -7.39052108e+00,\n",
       "        2.31226796e+01,  7.68265767e+03,  5.39592026e+03,  4.96582017e+03,\n",
       "        7.86462732e+02, -2.69283781e+03, -1.43669153e+04, -8.47100516e+03,\n",
       "        4.30206343e+03,  2.70958278e+03,  5.67281945e+03, -1.97567599e+02,\n",
       "       -2.55224330e+01, -1.43461690e+02,  1.10857705e+04, -1.39135415e+00,\n",
       "       -2.38739785e+02,  1.59595149e+03,  8.54068507e+02, -9.67528841e+00,\n",
       "        6.34533317e+00,  5.60476720e+00,  2.69716762e+01,  3.76518540e+01,\n",
       "       -5.75760009e+01,  5.35057837e-01, -1.80552983e+02, -7.32946172e+02,\n",
       "       -7.14607819e+02,  3.40059956e+03])"
      ]
     },
     "execution_count": 59,
     "metadata": {},
     "output_type": "execute_result"
    }
   ],
   "source": [
    "reg_prop.coef_"
   ]
  },
  {
   "cell_type": "code",
   "execution_count": 60,
   "id": "5f0043ad",
   "metadata": {},
   "outputs": [],
   "source": [
    "# check assumptions"
   ]
  },
  {
   "cell_type": "code",
   "execution_count": 61,
   "id": "9af09fe0",
   "metadata": {},
   "outputs": [],
   "source": [
    "prop_train = reg_prop.predict(prop_train_x)\n",
    "prop_test = reg_prop.predict(prop_test_x)"
   ]
  },
  {
   "cell_type": "code",
   "execution_count": 62,
   "id": "0ce7b499",
   "metadata": {},
   "outputs": [],
   "source": [
    "err_train = prop_train_y - prop_train\n",
    "err_test = prop_test_y - prop_test"
   ]
  },
  {
   "cell_type": "code",
   "execution_count": 63,
   "id": "9448fb92",
   "metadata": {},
   "outputs": [
    {
     "data": {
      "text/plain": [
       "-1.3696507015285476e-10"
      ]
     },
     "execution_count": 63,
     "metadata": {},
     "output_type": "execute_result"
    }
   ],
   "source": [
    "np.mean(err_train)"
   ]
  },
  {
   "cell_type": "code",
   "execution_count": 64,
   "id": "cc8f493c",
   "metadata": {},
   "outputs": [
    {
     "data": {
      "text/plain": [
       "[<matplotlib.lines.Line2D at 0x20aa489b6a0>]"
      ]
     },
     "execution_count": 64,
     "metadata": {},
     "output_type": "execute_result"
    },
    {
     "data": {
      "image/png": "[encoded data removed]",
      "text/plain": [
       "<Figure size 432x288 with 1 Axes>"
      ]
     },
     "metadata": {
      "needs_background": "light"
     },
     "output_type": "display_data"
    }
   ],
   "source": [
    "plt.plot(err_train , \"*\")   # Outliers are their"
   ]
  },
  {
   "cell_type": "code",
   "execution_count": 65,
   "id": "48ad8aa0",
   "metadata": {},
   "outputs": [
    {
     "data": {
      "text/plain": [
       "(array([  1.,   1.,   0.,   0.,   0.,   0.,   0.,   0.,   3.,   9.,  30.,\n",
       "        219., 521., 291.,  61.,  15.,   9.,   1.,   1.,   5.]),\n",
       " array([-308840.60476802, -284442.11990249, -260043.63503696,\n",
       "        -235645.15017143, -211246.6653059 , -186848.18044037,\n",
       "        -162449.69557484, -138051.21070931, -113652.72584378,\n",
       "         -89254.24097825,  -64855.75611272,  -40457.27124719,\n",
       "         -16058.78638166,    8339.69848387,   32738.1833494 ,\n",
       "          57136.66821493,   81535.15308046,  105933.63794599,\n",
       "         130332.12281152,  154730.60767705,  179129.09254258]),\n",
       " <BarContainer object of 20 artists>)"
      ]
     },
     "execution_count": 65,
     "metadata": {},
     "output_type": "execute_result"
    },
    {
     "data": {
      "image/png": "[encoded data removed]",
      "text/plain": [
       "<Figure size 432x288 with 1 Axes>"
      ]
     },
     "metadata": {
      "needs_background": "light"
     },
     "output_type": "display_data"
    }
   ],
   "source": [
    "plt.hist(err_train , bins = 20 , color = 'r')"
   ]
  },
  {
   "cell_type": "code",
   "execution_count": 66,
   "id": "01982f1f",
   "metadata": {},
   "outputs": [
    {
     "data": {
      "text/html": [
       "<div>\n",
       "<style scoped>\n",
       "    .dataframe tbody tr th:only-of-type {\n",
       "        vertical-align: middle;\n",
       "    }\n",
       "\n",
       "    .dataframe tbody tr th {\n",
       "        vertical-align: top;\n",
       "    }\n",
       "\n",
       "    .dataframe thead th {\n",
       "        text-align: right;\n",
       "    }\n",
       "</style>\n",
       "<table border=\"1\" class=\"dataframe\">\n",
       "  <thead>\n",
       "    <tr style=\"text-align: right;\">\n",
       "      <th></th>\n",
       "      <th>Predict</th>\n",
       "      <th>Actual</th>\n",
       "    </tr>\n",
       "  </thead>\n",
       "  <tbody>\n",
       "    <tr>\n",
       "      <th>681</th>\n",
       "      <td>96622.757372</td>\n",
       "      <td>159434</td>\n",
       "    </tr>\n",
       "    <tr>\n",
       "      <th>1206</th>\n",
       "      <td>107929.732541</td>\n",
       "      <td>107000</td>\n",
       "    </tr>\n",
       "    <tr>\n",
       "      <th>918</th>\n",
       "      <td>271141.194863</td>\n",
       "      <td>238000</td>\n",
       "    </tr>\n",
       "    <tr>\n",
       "      <th>769</th>\n",
       "      <td>435257.127469</td>\n",
       "      <td>538000</td>\n",
       "    </tr>\n",
       "    <tr>\n",
       "      <th>389</th>\n",
       "      <td>388866.015156</td>\n",
       "      <td>426000</td>\n",
       "    </tr>\n",
       "  </tbody>\n",
       "</table>\n",
       "</div>"
      ],
      "text/plain": [
       "            Predict  Actual\n",
       "681    96622.757372  159434\n",
       "1206  107929.732541  107000\n",
       "918   271141.194863  238000\n",
       "769   435257.127469  538000\n",
       "389   388866.015156  426000"
      ]
     },
     "execution_count": 66,
     "metadata": {},
     "output_type": "execute_result"
    }
   ],
   "source": [
    "prop_actual = pd.DataFrame({'Predict' : prop_train , 'Actual' : prop_train_y})\n",
    "prop_actual.head()"
   ]
  },
  {
   "cell_type": "code",
   "execution_count": 67,
   "id": "a569b1d1",
   "metadata": {},
   "outputs": [
    {
     "data": {
      "text/plain": [
       "[<matplotlib.lines.Line2D at 0x20aa4987e50>,\n",
       " <matplotlib.lines.Line2D at 0x20aa4987f40>]"
      ]
     },
     "execution_count": 67,
     "metadata": {},
     "output_type": "execute_result"
    },
    {
     "data": {
      "image/png": "[encoded data removed]",
      "text/plain": [
       "<Figure size 432x288 with 1 Axes>"
      ]
     },
     "metadata": {
      "needs_background": "light"
     },
     "output_type": "display_data"
    }
   ],
   "source": [
    "plt.plot(prop_actual , \"*\")"
   ]
  },
  {
   "cell_type": "code",
   "execution_count": 68,
   "id": "738133ba",
   "metadata": {},
   "outputs": [],
   "source": [
    "import seaborn as sns"
   ]
  },
  {
   "cell_type": "code",
   "execution_count": 69,
   "id": "78b28c65",
   "metadata": {},
   "outputs": [
    {
     "name": "stderr",
     "output_type": "stream",
     "text": [
      "C:\\ProgramData\\Anaconda3\\lib\\site-packages\\seaborn\\_decorators.py:36: FutureWarning: Pass the following variables as keyword args: x, y. From version 0.12, the only valid positional argument will be `data`, and passing other arguments without an explicit keyword will result in an error or misinterpretation.\n",
      "  warnings.warn(\n"
     ]
    },
    {
     "data": {
      "text/plain": [
       "<AxesSubplot:xlabel='Actual', ylabel='Predict'>"
      ]
     },
     "execution_count": 69,
     "metadata": {},
     "output_type": "execute_result"
    },
    {
     "data": {
      "image/png": "[encoded data removed]",
      "text/plain": [
       "<Figure size 432x288 with 1 Axes>"
      ]
     },
     "metadata": {
      "needs_background": "light"
     },
     "output_type": "display_data"
    }
   ],
   "source": [
    "sns.regplot('Actual', 'Predict' , data = prop_actual)"
   ]
  },
  {
   "cell_type": "code",
   "execution_count": 70,
   "id": "c28facd1",
   "metadata": {},
   "outputs": [
    {
     "data": {
      "text/plain": [
       "11.371793793630818"
      ]
     },
     "execution_count": 70,
     "metadata": {},
     "output_type": "execute_result"
    }
   ],
   "source": [
    "# MAPE on test data\n",
    "mape_test = np.mean(np.abs(err_test / prop_test_y) *100)\n",
    "mape_test"
   ]
  },
  {
   "cell_type": "code",
   "execution_count": 71,
   "id": "00b9dd10",
   "metadata": {},
   "outputs": [
    {
     "data": {
      "text/plain": [
       "88.62820620636919"
      ]
     },
     "execution_count": 71,
     "metadata": {},
     "output_type": "execute_result"
    }
   ],
   "source": [
    "Accuracy = 100 -mape_test\n",
    "Acc = Accuracy \n",
    "Acc"
   ]
  },
  {
   "cell_type": "code",
   "execution_count": 72,
   "id": "59ca7ef7",
   "metadata": {},
   "outputs": [],
   "source": [
    "# TO REMOVE OUTLIERS\n",
    "\n",
    "def remove_outliers(df,   col,  k):   \n",
    "        mean = df[col].mean()\n",
    "        global df1  # output \n",
    "        sd = df[col].std()    \n",
    "        final_list = [x for x in df[col] if (x > mean - k * sd)]\n",
    "        final_list = [x for x in final_list if (x < mean + k * sd)]       \n",
    "        df1 = df.loc[df[col].isin(final_list)] ; print(df1.shape)     \n",
    "        print(\"Number of outliers removed == >\"   ,  df.shape[0]  - df1.shape[0])"
   ]
  },
  {
   "cell_type": "code",
   "execution_count": 73,
   "id": "66810897",
   "metadata": {},
   "outputs": [
    {
     "name": "stdout",
     "output_type": "stream",
     "text": [
      "(1396, 75)\n",
      "Number of outliers removed == > 63\n"
     ]
    }
   ],
   "source": [
    "remove_outliers(prop , 'Sale_Price' , 2)"
   ]
  },
  {
   "cell_type": "code",
   "execution_count": 74,
   "id": "8a60a902",
   "metadata": {},
   "outputs": [
    {
     "data": {
      "text/html": [
       "<div>\n",
       "<style scoped>\n",
       "    .dataframe tbody tr th:only-of-type {\n",
       "        vertical-align: middle;\n",
       "    }\n",
       "\n",
       "    .dataframe tbody tr th {\n",
       "        vertical-align: top;\n",
       "    }\n",
       "\n",
       "    .dataframe thead th {\n",
       "        text-align: right;\n",
       "    }\n",
       "</style>\n",
       "<table border=\"1\" class=\"dataframe\">\n",
       "  <thead>\n",
       "    <tr style=\"text-align: right;\">\n",
       "      <th></th>\n",
       "      <th>Building_Class</th>\n",
       "      <th>Zoning_Class</th>\n",
       "      <th>Lot_Extent</th>\n",
       "      <th>Lot_Size</th>\n",
       "      <th>Road_Type</th>\n",
       "      <th>Property_Shape</th>\n",
       "      <th>Land_Outline</th>\n",
       "      <th>Utility_Type</th>\n",
       "      <th>Lot_Configuration</th>\n",
       "      <th>Property_Slope</th>\n",
       "      <th>...</th>\n",
       "      <th>Enclosed_Lobby_Area</th>\n",
       "      <th>Three_Season_Lobby_Area</th>\n",
       "      <th>Screen_Lobby_Area</th>\n",
       "      <th>Pool_Area</th>\n",
       "      <th>Miscellaneous_Value</th>\n",
       "      <th>Month_Sold</th>\n",
       "      <th>Year_Sold</th>\n",
       "      <th>Sale_Type</th>\n",
       "      <th>Sale_Condition</th>\n",
       "      <th>Sale_Price</th>\n",
       "    </tr>\n",
       "  </thead>\n",
       "  <tbody>\n",
       "    <tr>\n",
       "      <th>0</th>\n",
       "      <td>60</td>\n",
       "      <td>3</td>\n",
       "      <td>65.0</td>\n",
       "      <td>8450</td>\n",
       "      <td>1</td>\n",
       "      <td>3</td>\n",
       "      <td>3</td>\n",
       "      <td>0</td>\n",
       "      <td>4</td>\n",
       "      <td>0</td>\n",
       "      <td>...</td>\n",
       "      <td>20.337934</td>\n",
       "      <td>0</td>\n",
       "      <td>0</td>\n",
       "      <td>0</td>\n",
       "      <td>0</td>\n",
       "      <td>2</td>\n",
       "      <td>2008</td>\n",
       "      <td>8</td>\n",
       "      <td>4</td>\n",
       "      <td>208500</td>\n",
       "    </tr>\n",
       "    <tr>\n",
       "      <th>1</th>\n",
       "      <td>20</td>\n",
       "      <td>3</td>\n",
       "      <td>80.0</td>\n",
       "      <td>9600</td>\n",
       "      <td>1</td>\n",
       "      <td>3</td>\n",
       "      <td>3</td>\n",
       "      <td>0</td>\n",
       "      <td>2</td>\n",
       "      <td>0</td>\n",
       "      <td>...</td>\n",
       "      <td>15.039392</td>\n",
       "      <td>0</td>\n",
       "      <td>0</td>\n",
       "      <td>0</td>\n",
       "      <td>0</td>\n",
       "      <td>5</td>\n",
       "      <td>2007</td>\n",
       "      <td>8</td>\n",
       "      <td>4</td>\n",
       "      <td>181500</td>\n",
       "    </tr>\n",
       "    <tr>\n",
       "      <th>2</th>\n",
       "      <td>60</td>\n",
       "      <td>3</td>\n",
       "      <td>68.0</td>\n",
       "      <td>11250</td>\n",
       "      <td>1</td>\n",
       "      <td>0</td>\n",
       "      <td>3</td>\n",
       "      <td>0</td>\n",
       "      <td>4</td>\n",
       "      <td>0</td>\n",
       "      <td>...</td>\n",
       "      <td>-46.232198</td>\n",
       "      <td>0</td>\n",
       "      <td>0</td>\n",
       "      <td>0</td>\n",
       "      <td>0</td>\n",
       "      <td>9</td>\n",
       "      <td>2008</td>\n",
       "      <td>8</td>\n",
       "      <td>4</td>\n",
       "      <td>223500</td>\n",
       "    </tr>\n",
       "    <tr>\n",
       "      <th>3</th>\n",
       "      <td>70</td>\n",
       "      <td>3</td>\n",
       "      <td>60.0</td>\n",
       "      <td>9550</td>\n",
       "      <td>1</td>\n",
       "      <td>0</td>\n",
       "      <td>3</td>\n",
       "      <td>0</td>\n",
       "      <td>0</td>\n",
       "      <td>0</td>\n",
       "      <td>...</td>\n",
       "      <td>60.921821</td>\n",
       "      <td>0</td>\n",
       "      <td>0</td>\n",
       "      <td>0</td>\n",
       "      <td>0</td>\n",
       "      <td>2</td>\n",
       "      <td>2006</td>\n",
       "      <td>8</td>\n",
       "      <td>0</td>\n",
       "      <td>140000</td>\n",
       "    </tr>\n",
       "    <tr>\n",
       "      <th>4</th>\n",
       "      <td>60</td>\n",
       "      <td>3</td>\n",
       "      <td>84.0</td>\n",
       "      <td>14260</td>\n",
       "      <td>1</td>\n",
       "      <td>0</td>\n",
       "      <td>3</td>\n",
       "      <td>0</td>\n",
       "      <td>2</td>\n",
       "      <td>0</td>\n",
       "      <td>...</td>\n",
       "      <td>21.788818</td>\n",
       "      <td>0</td>\n",
       "      <td>0</td>\n",
       "      <td>0</td>\n",
       "      <td>0</td>\n",
       "      <td>12</td>\n",
       "      <td>2008</td>\n",
       "      <td>8</td>\n",
       "      <td>4</td>\n",
       "      <td>250000</td>\n",
       "    </tr>\n",
       "  </tbody>\n",
       "</table>\n",
       "<p>5 rows × 75 columns</p>\n",
       "</div>"
      ],
      "text/plain": [
       "   Building_Class  Zoning_Class  Lot_Extent  Lot_Size  Road_Type  \\\n",
       "0              60             3        65.0      8450          1   \n",
       "1              20             3        80.0      9600          1   \n",
       "2              60             3        68.0     11250          1   \n",
       "3              70             3        60.0      9550          1   \n",
       "4              60             3        84.0     14260          1   \n",
       "\n",
       "   Property_Shape  Land_Outline  Utility_Type  Lot_Configuration  \\\n",
       "0               3             3             0                  4   \n",
       "1               3             3             0                  2   \n",
       "2               0             3             0                  4   \n",
       "3               0             3             0                  0   \n",
       "4               0             3             0                  2   \n",
       "\n",
       "   Property_Slope  ...  Enclosed_Lobby_Area  Three_Season_Lobby_Area  \\\n",
       "0               0  ...            20.337934                        0   \n",
       "1               0  ...            15.039392                        0   \n",
       "2               0  ...           -46.232198                        0   \n",
       "3               0  ...            60.921821                        0   \n",
       "4               0  ...            21.788818                        0   \n",
       "\n",
       "   Screen_Lobby_Area  Pool_Area  Miscellaneous_Value  Month_Sold  Year_Sold  \\\n",
       "0                  0          0                    0           2       2008   \n",
       "1                  0          0                    0           5       2007   \n",
       "2                  0          0                    0           9       2008   \n",
       "3                  0          0                    0           2       2006   \n",
       "4                  0          0                    0          12       2008   \n",
       "\n",
       "   Sale_Type  Sale_Condition  Sale_Price  \n",
       "0          8               4      208500  \n",
       "1          8               4      181500  \n",
       "2          8               4      223500  \n",
       "3          8               0      140000  \n",
       "4          8               4      250000  \n",
       "\n",
       "[5 rows x 75 columns]"
      ]
     },
     "execution_count": 74,
     "metadata": {},
     "output_type": "execute_result"
    }
   ],
   "source": [
    "prop.head()"
   ]
  },
  {
   "cell_type": "code",
   "execution_count": 75,
   "id": "4c2c86ec",
   "metadata": {},
   "outputs": [],
   "source": [
    "prop = df1  # outliers are removered and assign df1 to prop to reassign then re run program from sampling i.e form iloc function"
   ]
  },
  {
   "cell_type": "code",
   "execution_count": null,
   "id": "d6ff1e78",
   "metadata": {},
   "outputs": [],
   "source": []
  },
  {
   "cell_type": "code",
   "execution_count": null,
   "id": "05c45a62",
   "metadata": {},
   "outputs": [],
   "source": []
  },
  {
   "cell_type": "code",
   "execution_count": null,
   "id": "0d32059f",
   "metadata": {},
   "outputs": [],
   "source": []
  }
 ],
 "metadata": {
  "kernelspec": {
   "display_name": "Python 3 (ipykernel)",
   "language": "python",
   "name": "python3"
  },
  "language_info": {
   "codemirror_mode": {
    "name": "ipython",
    "version": 3
   },
   "file_extension": ".py",
   "mimetype": "text/x-python",
   "name": "python",
   "nbconvert_exporter": "python",
   "pygments_lexer": "ipython3",
   "version": "3.9.11"
  }
 },
 "nbformat": 4,
 "nbformat_minor": 5
}
